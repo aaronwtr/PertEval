{
 "cells": [
  {
   "cell_type": "code",
   "id": "initial_id",
   "metadata": {
    "collapsed": true,
    "ExecuteTime": {
     "end_time": "2024-09-29T00:06:04.811421Z",
     "start_time": "2024-09-29T00:06:04.809967Z"
    }
   },
   "source": "# Author: A. Wenteler",
   "outputs": [],
   "execution_count": 1
  },
  {
   "metadata": {
    "ExecuteTime": {
     "end_time": "2024-09-29T00:06:06.048451Z",
     "start_time": "2024-09-29T00:06:04.812150Z"
    }
   },
   "cell_type": "code",
   "source": [
    "import pandas as pd\n",
    "import numpy as np\n",
    "import matplotlib.pyplot as plt\n",
    "import seaborn as sns\n",
    "import anndata as ad \n",
    "import pickle as pkl \n",
    "import scanpy as sc \n",
    "from tqdm import tqdm\n",
    "\n",
    "from scipy.sparse import csr_matrix"
   ],
   "id": "f445facac01a68de",
   "outputs": [],
   "execution_count": 2
  },
  {
   "metadata": {
    "ExecuteTime": {
     "end_time": "2024-09-29T00:06:28.120265Z",
     "start_time": "2024-09-29T00:06:06.049134Z"
    }
   },
   "cell_type": "code",
   "source": [
    "# Load data\n",
    "sc_data_raw = ad.read_h5ad('../../data/norman_2019_raw.h5ad')"
   ],
   "id": "fac0ea882876ba10",
   "outputs": [],
   "execution_count": 3
  },
  {
   "metadata": {
    "ExecuteTime": {
     "end_time": "2024-09-29T00:06:28.133354Z",
     "start_time": "2024-09-29T00:06:28.125607Z"
    }
   },
   "cell_type": "code",
   "source": [
    "def preprocess_adata(adata, min_gene_counts=None, min_cell_counts=None, no_highly_var=2000):\n",
    "    \"\"\"\n",
    "    Input is an adata object has a condition column with either \"ctrl\" for negative controls or GENE_SYMBOL for perturbed cells\n",
    "    \"\"\"\n",
    "    \n",
    "    adata = adata.copy()\n",
    "\n",
    "    #filter genes \n",
    "    if min_gene_counts is not None:\n",
    "        sc.pp.filter_genes(adata, min_counts=min_gene_counts)\n",
    "\n",
    "    #filter cells\n",
    "    if min_cell_counts is not None:\n",
    "        sc.pp.filter_cells(adata, min_counts=min_cell_counts)\n",
    "\n",
    "    #filter only single gene perturbations and controls\n",
    "    conditions_to_keep = list()\n",
    "    for cond in list(adata.obs['guide_ids']):\n",
    "        if \",\" not in cond:\n",
    "            conditions_to_keep.append(cond)\n",
    "    adata = adata[adata.obs['guide_ids'].isin(conditions_to_keep), :]\n",
    "\n",
    "    #apply preprocessing transformation\n",
    "    sc.pp.normalize_total(adata, inplace=True)\n",
    "    sc.pp.log1p(adata)\n",
    "    sc.pp.highly_variable_genes(adata, n_top_genes=no_highly_var)\n",
    "    highly_variable_genes = adata.var_names[adata.var['highly_variable']]\n",
    "    adata = adata[:, highly_variable_genes]\n",
    "\n",
    "    return adata  "
   ],
   "id": "e0e39f647ba0ce86",
   "outputs": [],
   "execution_count": 4
  },
  {
   "metadata": {
    "ExecuteTime": {
     "end_time": "2024-09-29T00:06:39.407583Z",
     "start_time": "2024-09-29T00:06:28.134088Z"
    }
   },
   "cell_type": "code",
   "source": "adata_pp = preprocess_adata(sc_data_raw, min_gene_counts=5, min_cell_counts=None, no_highly_var=2000)",
   "id": "bb15abf0a2b7cd93",
   "outputs": [
    {
     "name": "stderr",
     "output_type": "stream",
     "text": [
      "/Users/aaronw/Desktop/PhD/Research/QMUL/Research/scBench/venv/lib/python3.10/site-packages/scanpy/preprocessing/_normalization.py:206: UserWarning: Received a view of an AnnData. Making a copy.\n",
      "  view_to_actual(adata)\n"
     ]
    }
   ],
   "execution_count": 5
  },
  {
   "metadata": {
    "ExecuteTime": {
     "end_time": "2024-09-29T00:06:39.411338Z",
     "start_time": "2024-09-29T00:06:39.408728Z"
    }
   },
   "cell_type": "code",
   "source": [
    "# Load differentially expressed genes \n",
    "diff_genes = pkl.load(open('../../data/splits/perturb/norman_1/de_test/deg_pert_dict.pkl', 'rb'))"
   ],
   "id": "fdeb5450b5525041",
   "outputs": [],
   "execution_count": 6
  },
  {
   "metadata": {
    "ExecuteTime": {
     "end_time": "2024-09-29T00:11:54.082743Z",
     "start_time": "2024-09-29T00:11:53.553106Z"
    }
   },
   "cell_type": "code",
   "source": [
    "expr_matrix = adata_pp.X.todense()\n",
    "perts = adata_pp.obs['guide_ids'].tolist()\n",
    "expr_matrix = pd.DataFrame(expr_matrix, columns=adata_pp.var.gene_symbols)\n",
    "expr_matrix['perturbations'] = perts\n",
    "adata_obs = adata_pp.obs"
   ],
   "id": "84f3f818a22c11c8",
   "outputs": [],
   "execution_count": 8
  },
  {
   "metadata": {
    "ExecuteTime": {
     "end_time": "2024-09-29T00:11:54.871694Z",
     "start_time": "2024-09-29T00:11:54.739748Z"
    }
   },
   "cell_type": "code",
   "source": [
    "expr_matrix_ctrl = expr_matrix.loc[expr_matrix['perturbations'] == '']\n",
    "expr_matrix_pert = expr_matrix.loc[expr_matrix['perturbations'] != '']"
   ],
   "id": "fe584e242e124bc2",
   "outputs": [],
   "execution_count": 9
  },
  {
   "metadata": {
    "ExecuteTime": {
     "end_time": "2024-09-29T00:11:55.433068Z",
     "start_time": "2024-09-29T00:11:55.426708Z"
    }
   },
   "cell_type": "code",
   "source": "expr_matrix_ctrl.shape",
   "id": "eb8fbc61264eeb63",
   "outputs": [
    {
     "data": {
      "text/plain": [
       "(11855, 2001)"
      ]
     },
     "execution_count": 10,
     "metadata": {},
     "output_type": "execute_result"
    }
   ],
   "execution_count": 10
  },
  {
   "metadata": {},
   "cell_type": "code",
   "source": "df = pd.DataFrame(columns=['perturbations', 'gene', 'expression'])",
   "id": "135798645b0dd08c",
   "outputs": [],
   "execution_count": null
  },
  {
   "metadata": {},
   "cell_type": "code",
   "source": [
    "new_rows = []\n",
    "\n",
    "for pert, de_genes in diff_genes.items():\n",
    "    for gene in de_genes: \n",
    "        gene_symbol = adata_pp.var.gene_symbols[adata_pp.var.index == gene].iloc[0]\n",
    "        expression_values = expr_matrix_pert[expr_matrix_pert['perturbations'] == pert][gene_symbol].tolist()\n",
    "\n",
    "        new_rows.append([pert, gene_symbol, expression_values])\n",
    "\n",
    "top20_pert_df = pd.DataFrame(new_rows, columns=['perturbations', 'gene', 'expression'])"
   ],
   "id": "f7470af70a0858d1",
   "outputs": [],
   "execution_count": null
  },
  {
   "metadata": {},
   "cell_type": "code",
   "source": [
    "# Precompute the gene index to symbol mapping outside the loop\n",
    "gene_symbol_mapping = adata_pp.var['gene_symbols'].to_dict()\n",
    "\n",
    "# Loop over the perturbations and differentially expressed genes\n",
    "for pert, de_genes in tqdm(diff_genes.items()):\n",
    "    all_genes = set(adata_pp.var.index)  # Set of all genes\n",
    "    remaining_genes = all_genes - set(de_genes)  # Compute the remaining genes\n",
    "\n",
    "    # Get the expression matrix for the current perturbation\n",
    "    expression_values_pert = expr_matrix_pert[expr_matrix_pert['perturbations'] == pert]\n",
    "    temp_rows = []\n",
    "\n",
    "    for gene in remaining_genes:\n",
    "        gene_symbol = gene_symbol_mapping[gene] \n",
    "\n",
    "        expression_values = expression_values_pert[gene_symbol].tolist()\n",
    "        temp_rows.append([pert, gene_symbol, expression_values])\n",
    "\n",
    "    new_rows.extend(temp_rows)\n",
    "    \n",
    "nontop20_pert_df = pd.DataFrame(new_rows, columns=['perturbations', 'gene', 'expression'])"
   ],
   "id": "ddbf9618a1e46b50",
   "outputs": [],
   "execution_count": null
  },
  {
   "metadata": {},
   "cell_type": "code",
   "source": [
    "ikzf3_top20 = top20_pert_df[top20_pert_df['perturbations'] == 'IKZF3']\n",
    "ikzf3_nontop20 = nontop20_pert_df[nontop20_pert_df['perturbations'] == 'IKZF3']\n",
    "\n",
    "glb1l2_top20 = top20_pert_df[top20_pert_df['perturbations'] == 'GLB1L2']\n",
    "glb1l2_nontop20 = nontop20_pert_df[nontop20_pert_df['perturbations'] == 'GLB1L2']\n",
    "\n",
    "set_top20 = top20_pert_df[top20_pert_df['perturbations'] == 'SET']\n",
    "set_nontop20 = nontop20_pert_df[nontop20_pert_df['perturbations'] == 'SET']"
   ],
   "id": "9218d28bc3334d0f",
   "outputs": [],
   "execution_count": null
  },
  {
   "metadata": {},
   "cell_type": "code",
   "source": [
    "ikzf3_top20_expr = np.vstack(ikzf3_top20['expression'].values).mean(axis=0)\n",
    "ikzf3_nontop20_expr = np.vstack(ikzf3_nontop20['expression'].values).mean(axis=0)\n",
    "\n",
    "glb1l2_top20_expr = np.vstack(glb1l2_top20['expression'].values).mean(axis=0)\n",
    "glb1l2_nontop20_expr = np.vstack(glb1l2_nontop20['expression'].values).mean(axis=0)\n",
    "\n",
    "set_top20_expr = np.vstack(set_top20['expression'].values).mean(axis=0)\n",
    "set_nontop20_expr = np.vstack(set_nontop20['expression'].values).mean(axis=0)"
   ],
   "id": "e640faa60d9f63e1",
   "outputs": [],
   "execution_count": null
  },
  {
   "metadata": {},
   "cell_type": "code",
   "source": [
    "pert_comp = {\n",
    "    \"Gene\": [\"IKZF3\", \"IKZF3\", \"GLB1L2\", \"GLB1L2\", \"SET\", \"SET\"],\n",
    "    \"Group\": [\"Top 20 DEGs\", \"Tail genes\", \"Top 20 DEGs\", \"Tail genes\", \"Top 20 DEGs\", \"Tail genes\"],\n",
    "    \"Expression\": [ikzf3_top20_expr, ikzf3_nontop20_expr, glb1l2_top20_expr, glb1l2_nontop20_expr, set_top20_expr, set_nontop20_expr]\n",
    "}"
   ],
   "id": "238253a7511d4131",
   "outputs": [],
   "execution_count": null
  },
  {
   "metadata": {},
   "cell_type": "code",
   "source": [
    "pert_comp_df = pd.DataFrame(pert_comp)\n",
    "pert_comp_df"
   ],
   "id": "c8b63d628cd85980",
   "outputs": [],
   "execution_count": null
  },
  {
   "metadata": {},
   "cell_type": "code",
   "source": [
    "expression_data = pert_comp_df.explode('Expression')\n",
    "expression_data_tail = expression_data[expression_data['Group'] == 'Tail genes']\n",
    "expression_data_top20 = expression_data[expression_data['Group'] == 'Top 20 DEGs']"
   ],
   "id": "31e2c39eaa6ae89e",
   "outputs": [],
   "execution_count": null
  },
  {
   "metadata": {},
   "cell_type": "code",
   "source": "avg_expression_data_tail = expression_data_tail.groupby(\"Gene\")[\"Expression\"].mean()",
   "id": "6d59b2d4e5024add",
   "outputs": [],
   "execution_count": null
  },
  {
   "metadata": {},
   "cell_type": "code",
   "source": [
    "# set dpi = 300 \n",
    "plt.figure(dpi=300)\n",
    "sns.violinplot(x='Gene', y='Expression', hue='Group', data=expression_data_top20)\n",
    "plt.axhline(y=0.1606, color='C1', linestyle='--', label='Mean expression of tail genes')\n",
    "plt.xlabel('Perturbation')\n",
    "\n",
    "handles, labels = plt.gca().get_legend_handles_labels()\n",
    "unique_labels = dict(zip(labels, handles))\n",
    "plt.legend(unique_labels.values(), unique_labels.keys(), loc='upper right')\n",
    "plt.savefig('paper_figs/top20_vs_tail_genes.pdf')"
   ],
   "id": "17d8b32053d226fb",
   "outputs": [],
   "execution_count": null
  },
  {
   "metadata": {},
   "cell_type": "code",
   "source": [
    "top20_pert_expl = top20_pert_df.explode('expression')\n",
    "nontop20_pert_expl = nontop20_pert_df.explode('expression')\n",
    "top20_pert_expl"
   ],
   "id": "cdfacc8faf865db7",
   "outputs": [],
   "execution_count": null
  },
  {
   "metadata": {},
   "cell_type": "code",
   "source": [
    "# calculate the average and standard deviation of the expression across all perturbations and genes for both top20 and non top 20\n",
    "top20_avg = top20_pert_expl['expression'].mean()\n",
    "top20_std = top20_pert_expl['expression'].std()\n",
    "nontop20_avg = nontop20_pert_expl['expression'].mean()\n",
    "nontop20_std = nontop20_pert_expl['expression'].std()\n",
    "# find out the minimum of nontop20\n",
    "nontop20_min = nontop20_pert_expl['expression'].min()\n",
    "print(f\"Top 20 average expression: {top20_avg}, Top 20 standard deviation: {top20_std}\")\n",
    "print(f\"Non top 20 average expression: {nontop20_avg}, Non top 20 standard deviation: {nontop20_std}\")\n",
    "print(f\"Non top 20 minimum expression: {nontop20_min}\")"
   ],
   "id": "de8e1f38de2566e4",
   "outputs": [],
   "execution_count": null
  },
  {
   "metadata": {},
   "cell_type": "code",
   "outputs": [],
   "execution_count": null,
   "source": "",
   "id": "948f0b814ab84393"
  }
 ],
 "metadata": {
  "kernelspec": {
   "display_name": "Python 3",
   "language": "python",
   "name": "python3"
  },
  "language_info": {
   "codemirror_mode": {
    "name": "ipython",
    "version": 2
   },
   "file_extension": ".py",
   "mimetype": "text/x-python",
   "name": "python",
   "nbconvert_exporter": "python",
   "pygments_lexer": "ipython2",
   "version": "2.7.6"
  }
 },
 "nbformat": 4,
 "nbformat_minor": 5
}
