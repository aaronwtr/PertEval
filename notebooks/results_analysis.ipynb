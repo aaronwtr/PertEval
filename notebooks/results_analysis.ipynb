{
 "cells": [
  {
   "cell_type": "code",
   "execution_count": 1,
   "metadata": {},
   "outputs": [],
   "source": [
    "import wandb\n",
    "import numpy as np\n",
    "import pandas as pd\n",
    "from sklearn.metrics import auc\n",
    "import matplotlib.pyplot as plt"
   ]
  },
  {
   "cell_type": "code",
   "execution_count": 85,
   "metadata": {},
   "outputs": [],
   "source": [
    "#can use api to get run ids but have just donwloaded the flat cvs file instead. \n",
    "import pandas as pd \n",
    "import wandb\n",
    "api = wandb.Api()\n",
    "\n",
    "# Project is specified by <entity/project-name>\n",
    "runs = api.runs(\"aaronwtr/perturbench\")\n",
    "\n",
    "summary_list, config_list, name_list = [], [], []\n",
    "for run in runs: \n",
    "    # .summary contains the output keys/values for metrics like accuracy.\n",
    "    #  We call ._json_dict to omit large files \n",
    "    summary_list.append(run.summary._json_dict)\n",
    "\n",
    "    # .config contains the hyperparameters.\n",
    "    #  We remove special values that start with _.\n",
    "    config_list.append(\n",
    "        {k: v for k,v in run.config.items()\n",
    "          if not k.startswith('_')})\n",
    "\n",
    "    # .name is the human-readable name of the run.\n",
    "    name_list.append(run.name)\n",
    "\n",
    "runs_df = pd.DataFrame({\n",
    "    \"summary\": summary_list,\n",
    "    \"config\": config_list,\n",
    "    \"name\": name_list\n",
    "    })\n",
    "\n",
    "#runs_df.to_csv(\"project.csv\")"
   ]
  },
  {
   "cell_type": "code",
   "execution_count": 565,
   "metadata": {},
   "outputs": [],
   "source": [
    "df = pd.read_csv('wandb_baseline.csv')\n",
    "df_scgpt = pd.read_csv('wandb_scgpt.csv')\n",
    "df_gf = pd.read_csv('wandb_gf.csv')\n",
    "df_uce = pd.read_csv('wandb_uce.csv')"
   ]
  },
  {
   "cell_type": "code",
   "execution_count": 75,
   "metadata": {},
   "outputs": [
    {
     "data": {
      "text/html": [
       "<div>\n",
       "<style scoped>\n",
       "    .dataframe tbody tr th:only-of-type {\n",
       "        vertical-align: middle;\n",
       "    }\n",
       "\n",
       "    .dataframe tbody tr th {\n",
       "        vertical-align: top;\n",
       "    }\n",
       "\n",
       "    .dataframe thead th {\n",
       "        text-align: right;\n",
       "    }\n",
       "</style>\n",
       "<table border=\"1\" class=\"dataframe\">\n",
       "  <thead>\n",
       "    <tr style=\"text-align: right;\">\n",
       "      <th></th>\n",
       "      <th>Name</th>\n",
       "      <th>Created</th>\n",
       "      <th>Group</th>\n",
       "      <th>Tags</th>\n",
       "      <th>test/mse</th>\n",
       "      <th>test_baseline/mse</th>\n",
       "      <th>test_de/mse</th>\n",
       "      <th>train/mse</th>\n",
       "      <th>val/mse</th>\n",
       "    </tr>\n",
       "  </thead>\n",
       "  <tbody>\n",
       "    <tr>\n",
       "      <th>0</th>\n",
       "      <td>stoic-haze-56</td>\n",
       "      <td>2024-06-05T14:17:35.000Z</td>\n",
       "      <td>test_mlp_norman_0.7</td>\n",
       "      <td>IKZF3_de, eval, mlp, norman, replicate_1, spli...</td>\n",
       "      <td>NaN</td>\n",
       "      <td>0.190044</td>\n",
       "      <td>0.186191</td>\n",
       "      <td>NaN</td>\n",
       "      <td>NaN</td>\n",
       "    </tr>\n",
       "    <tr>\n",
       "      <th>1</th>\n",
       "      <td>youthful-hill-37</td>\n",
       "      <td>2024-06-05T02:28:56.000Z</td>\n",
       "      <td>test_mlp_norman_0.0</td>\n",
       "      <td>SLC4A1_de, eval, mlp, norman, replicate_0, spl...</td>\n",
       "      <td>NaN</td>\n",
       "      <td>0.383467</td>\n",
       "      <td>0.370128</td>\n",
       "      <td>NaN</td>\n",
       "      <td>NaN</td>\n",
       "    </tr>\n",
       "    <tr>\n",
       "      <th>2</th>\n",
       "      <td>lemon-vortex-33</td>\n",
       "      <td>2024-06-05T02:13:27.000Z</td>\n",
       "      <td>test_mlp_norman_0.0</td>\n",
       "      <td>SET_de, eval, mlp, norman, replicate_0, split_0.0</td>\n",
       "      <td>NaN</td>\n",
       "      <td>0.300423</td>\n",
       "      <td>0.296696</td>\n",
       "      <td>NaN</td>\n",
       "      <td>NaN</td>\n",
       "    </tr>\n",
       "    <tr>\n",
       "      <th>3</th>\n",
       "      <td>prime-disco-230</td>\n",
       "      <td>2024-06-04T01:09:47.000Z</td>\n",
       "      <td>mlp_norman_0.8</td>\n",
       "      <td>mlp, norman, replicate_1, split_0.8</td>\n",
       "      <td>0.071544</td>\n",
       "      <td>NaN</td>\n",
       "      <td>NaN</td>\n",
       "      <td>0.060080</td>\n",
       "      <td>0.057698</td>\n",
       "    </tr>\n",
       "    <tr>\n",
       "      <th>4</th>\n",
       "      <td>eternal-sun-229</td>\n",
       "      <td>2024-06-04T01:09:13.000Z</td>\n",
       "      <td>mlp_norman_0.8</td>\n",
       "      <td>mlp, norman, replicate_0, split_0.8</td>\n",
       "      <td>0.063389</td>\n",
       "      <td>NaN</td>\n",
       "      <td>NaN</td>\n",
       "      <td>0.075439</td>\n",
       "      <td>0.076257</td>\n",
       "    </tr>\n",
       "  </tbody>\n",
       "</table>\n",
       "</div>"
      ],
      "text/plain": [
       "               Name                   Created                Group  \\\n",
       "0     stoic-haze-56  2024-06-05T14:17:35.000Z  test_mlp_norman_0.7   \n",
       "1  youthful-hill-37  2024-06-05T02:28:56.000Z  test_mlp_norman_0.0   \n",
       "2   lemon-vortex-33  2024-06-05T02:13:27.000Z  test_mlp_norman_0.0   \n",
       "3   prime-disco-230  2024-06-04T01:09:47.000Z       mlp_norman_0.8   \n",
       "4   eternal-sun-229  2024-06-04T01:09:13.000Z       mlp_norman_0.8   \n",
       "\n",
       "                                                Tags  test/mse  \\\n",
       "0  IKZF3_de, eval, mlp, norman, replicate_1, spli...       NaN   \n",
       "1  SLC4A1_de, eval, mlp, norman, replicate_0, spl...       NaN   \n",
       "2  SET_de, eval, mlp, norman, replicate_0, split_0.0       NaN   \n",
       "3                mlp, norman, replicate_1, split_0.8  0.071544   \n",
       "4                mlp, norman, replicate_0, split_0.8  0.063389   \n",
       "\n",
       "   test_baseline/mse  test_de/mse  train/mse   val/mse  \n",
       "0           0.190044     0.186191        NaN       NaN  \n",
       "1           0.383467     0.370128        NaN       NaN  \n",
       "2           0.300423     0.296696        NaN       NaN  \n",
       "3                NaN          NaN   0.060080  0.057698  \n",
       "4                NaN          NaN   0.075439  0.076257  "
      ]
     },
     "execution_count": 75,
     "metadata": {},
     "output_type": "execute_result"
    }
   ],
   "source": [
    "df = pd.read_csv('wandb_baseline.csv')\n",
    "df.head()"
   ]
  },
  {
   "cell_type": "markdown",
   "metadata": {},
   "source": [
    "plt.style.use(\"seaborn\")"
   ]
  },
  {
   "cell_type": "markdown",
   "metadata": {},
   "source": [
    "## MSE plots for spectral params"
   ]
  },
  {
   "cell_type": "code",
   "execution_count": 566,
   "metadata": {},
   "outputs": [],
   "source": [
    "spectral_params = ['0.0', '0.1', '0.2', '0.3', '0.4', '0.5', '0.6', '0.7'] #'0.8']\n",
    "def find_mets_by_spectral_params(model, metric_name, raw_data):\n",
    "    '''find tabular metrics grouped by the spectral params'''\n",
    "    met_by_sp = {}\n",
    "    for sp in spectral_params:\n",
    "        sp_sub = raw_data[raw_data['Group'] == f'{model}_{sp}']\n",
    "        met_by_sp[f'{model}_{sp}'] = sp_sub[metric_name].values\n",
    "    return pd.DataFrame(met_by_sp)\n",
    "\n",
    "def find_spectral_auc(metric_df):\n",
    "    x = np.array(spectral_params, dtype='float')\n",
    "    y = metric_df.mean()\n",
    "    return auc(x, y)\n",
    "\n",
    "def plot_spectral_curve(metric_df, err='standard_error', zero_ylb=False, shading=True, errbar=True, c=\"#D1E7FF\", alpha=0.8,\n",
    "                        plot_shading_c_same=True):\n",
    "    x = np.array(spectral_params, dtype='float')\n",
    "    y = metric_df.mean()\n",
    "    if err == 'standard_error':\n",
    "        yerr = metric_df.std() / (len(metric_df) ** 0.5 ) #Standard error for err bar \n",
    "    \n",
    "    if errbar: #safe to remove if we go with fill_between for errors\n",
    "        plt.errorbar(x, y, yerr=yerr, color='k', capsize = 3,elinewidth=1.5, linewidth=1.0)    \n",
    "    else:\n",
    "        if plot_shading_c_same:\n",
    "            plot_c = c\n",
    "        else:\n",
    "            plot_c = 'k'\n",
    "        plt.plot(x, y, color=plot_c, linestyle='dashed', marker='o', linewidth=0.5)\n",
    "        y_lower = y - yerr\n",
    "        y_upper = y + yerr\n",
    "        plt.fill_between(x, y_lower, y_upper, color=c, alpha=alpha, \n",
    "        #edgecolor='#aad3ff'\n",
    "        )\n",
    "    axes = plt.gca()\n",
    "    y_min, _ = axes.get_ylim()\n",
    "    #\n",
    "    if zero_ylb:\n",
    "        y_min = 0\n",
    "    if shading:\n",
    "        plt.fill_between(x=x, y1=y, y2=y_min, color= \"#D1E7FF\", alpha=1.0)\n",
    "    plt.xlabel('Spectral Parameter')\n",
    "    plt.ylabel('MSE')\n",
    "\n",
    "\n",
    "def find_ausc_table(all_model_raw_dfs, model_names, probe_model_ds='mlp_norman', metric_name='test/mse'):\n",
    "    '''probe_model_ds named in Group col in df above \n",
    "    metric_name  name of col for metric of intrest\n",
    "    '''\n",
    "    table = {}\n",
    "    for m_name, dft in zip(model_names, all_model_raw_dfs):\n",
    "        auc = find_spectral_auc(find_mets_by_spectral_params(probe_model_ds, metric_name, dft))\n",
    "        table[m_name] = auc\n",
    "    return table"
   ]
  },
  {
   "cell_type": "code",
   "execution_count": 567,
   "metadata": {},
   "outputs": [
    {
     "data": {
      "text/plain": [
       "(0.04582182324180996,\n",
       " 0.06140315545101957,\n",
       " 0.06717853962133326,\n",
       " 0.05331953788797057)"
      ]
     },
     "execution_count": 567,
     "metadata": {},
     "output_type": "execute_result"
    }
   ],
   "source": [
    "probe_model_ds = 'mlp_norman' #as named in Group col in df above\n",
    "metric_name  = 'test/mse' #name of col for metric of intrest\n",
    "test_mse = find_mets_by_spectral_params(probe_model_ds, metric_name, df)\n",
    "test_mse_scgpt = find_mets_by_spectral_params(probe_model_ds, metric_name, df_scgpt)\n",
    "test_mse_gf = find_mets_by_spectral_params(probe_model_ds, metric_name, df_gf)\n",
    "test_mse_uce = find_mets_by_spectral_params(probe_model_ds, metric_name, df_uce)\n",
    "\n",
    "find_spectral_auc(test_mse), find_spectral_auc(test_mse_gf), find_spectral_auc(test_mse_scgpt), find_spectral_auc(test_mse_uce)"
   ]
  },
  {
   "cell_type": "code",
   "execution_count": 568,
   "metadata": {},
   "outputs": [],
   "source": [
    "table = find_ausc_table([df, df_scgpt, df_gf, df_uce], model_names=['Baseline', 'scgt', 'gf', 'uce'])\n",
    "table = pd.Series(table).sort_values()"
   ]
  },
  {
   "cell_type": "code",
   "execution_count": 569,
   "metadata": {},
   "outputs": [
    {
     "data": {
      "text/plain": [
       "Baseline    0.045822\n",
       "uce         0.053320\n",
       "gf          0.061403\n",
       "scgt        0.067179\n",
       "dtype: float64"
      ]
     },
     "execution_count": 569,
     "metadata": {},
     "output_type": "execute_result"
    }
   ],
   "source": [
    "table"
   ]
  },
  {
   "cell_type": "markdown",
   "metadata": {},
   "source": [
    "### Box plot for aucpr"
   ]
  },
  {
   "cell_type": "code",
   "execution_count": null,
   "metadata": {},
   "outputs": [
    {
     "name": "stderr",
     "output_type": "stream",
     "text": [
      "C:\\Users\\Nik\\AppData\\Local\\Temp\\ipykernel_24980\\272224412.py:5: MatplotlibDeprecationWarning: The get_cmap function was deprecated in Matplotlib 3.7 and will be removed two minor releases later. Use ``matplotlib.colormaps[name]`` or ``matplotlib.colormaps.get_cmap(obj)`` instead.\n",
      "  cmap = plt.cm.get_cmap('tab20b', len(table))\n"
     ]
    },
    {
     "data": {
      "image/png": "[encoded data removed]",
      "text/plain": [
       "<Figure size 320x400 with 1 Axes>"
      ]
     },
     "metadata": {},
     "output_type": "display_data"
    }
   ],
   "source": [
    "plt.figure(figsize=(3.2, 2.8))\n",
    "table = find_ausc_table([df, df_scgpt, df_gf, df_uce, df_scgpt], model_names=['Baseline', 'scGPT', 'Geneformer', 'UCE', 'scGPT3'])\n",
    "table = pd.Series(table).sort_values()\n",
    "\n",
    "cmap = plt.cm.get_cmap('tab20b', len(table)) \n",
    "bar_colors = [cmap(i) for i in range(len(table))]\n",
    "width = 0.3\n",
    "plt.bar(table.index, table, width, color=bar_colors, alpha=1.0)\n",
    "#plt.xlabel('Model')\n",
    "plt.ylabel('AUSPC')\n",
    "plt.xticks(rotation=45)\n",
    "plt.tight_layout()\n",
    "plt.savefig('paper_figs/auspc_bar.png', dpi=300)\n",
    "plt.show()"
   ]
  },
  {
   "cell_type": "code",
   "execution_count": 491,
   "metadata": {},
   "outputs": [
    {
     "data": {
      "text/plain": [
       "2"
      ]
     },
     "execution_count": 491,
     "metadata": {},
     "output_type": "execute_result"
    }
   ],
   "source": [
    "((test_mse - test_mse_scgpt) > 0).sum().sum() #scgpt only beats baseline for 2 splits"
   ]
  },
  {
   "cell_type": "code",
   "execution_count": 492,
   "metadata": {},
   "outputs": [
    {
     "data": {
      "text/plain": [
       "6"
      ]
     },
     "execution_count": 492,
     "metadata": {},
     "output_type": "execute_result"
    }
   ],
   "source": [
    "((test_mse - test_mse_gf) > 0).sum().sum()  #gf beats baseline for 6 splits,"
   ]
  },
  {
   "cell_type": "code",
   "execution_count": 140,
   "metadata": {},
   "outputs": [
    {
     "data": {
      "text/plain": [
       "(0.04823722081879772, 0.051043300889432396)"
      ]
     },
     "execution_count": 140,
     "metadata": {},
     "output_type": "execute_result"
    }
   ],
   "source": [
    "find_spectral_auc(test_mse_gf[test_mse_gf < 0.1]), find_spectral_auc(test_mse_scgpt[test_mse_scgpt < 0.1])"
   ]
  },
  {
   "cell_type": "markdown",
   "metadata": {},
   "source": [
    "#### auc table and plots"
   ]
  },
  {
   "cell_type": "code",
   "execution_count": 482,
   "metadata": {},
   "outputs": [
    {
     "data": {
      "image/png": "[encoded data removed]",
      "text/plain": [
       "<Figure size 640x480 with 1 Axes>"
      ]
     },
     "metadata": {},
     "output_type": "display_data"
    }
   ],
   "source": [
    "#current plot that we think well use\n",
    "plt.style.use('default')\n",
    "plot_spectral_curve(test_mse, shading=False, errbar=False, plot_shading_c_same=False)\n",
    "plt.savefig('paper_figs/baseline_full_spec_curve.png', dpi=300)\n",
    "plt.show()"
   ]
  },
  {
   "cell_type": "code",
   "execution_count": 214,
   "metadata": {},
   "outputs": [
    {
     "data": {
      "image/png": "[encoded data removed]",
      "text/plain": [
       "<Figure size 640x480 with 1 Axes>"
      ]
     },
     "metadata": {},
     "output_type": "display_data"
    }
   ],
   "source": [
    "plot_spectral_curve(test_mse_scgpt, shading=False, errbar=False, plot_shading_c_same=False)\n",
    "plot_spectral_curve(test_mse, shading=False, errbar=False, plot_shading_c_same=False)"
   ]
  },
  {
   "cell_type": "code",
   "execution_count": 288,
   "metadata": {},
   "outputs": [
    {
     "name": "stderr",
     "output_type": "stream",
     "text": [
      "C:\\Users\\Nik\\AppData\\Local\\Temp\\ipykernel_24980\\3969312826.py:2: MatplotlibDeprecationWarning: The get_cmap function was deprecated in Matplotlib 3.7 and will be removed two minor releases later. Use ``matplotlib.colormaps[name]`` or ``matplotlib.colormaps.get_cmap(obj)`` instead.\n",
      "  cmap = plt.cm.get_cmap('tab20b', n_models)\n"
     ]
    },
    {
     "data": {
      "image/png": "[encoded data removed]",
      "text/plain": [
       "<Figure size 640x480 with 1 Axes>"
      ]
     },
     "metadata": {},
     "output_type": "display_data"
    }
   ],
   "source": [
    "n_models = 3\n",
    "cmap = plt.cm.get_cmap('tab20b', n_models) \n",
    "bar_colors = [cmap(i) for i in range(n_models)]\n",
    "alpha = 1\n",
    "plot_spectral_curve(test_mse, shading=False, errbar=False, c=bar_colors[0], alpha=alpha* 0.1)\n",
    "plot_spectral_curve(test_mse_scgpt, shading=False, errbar=False, c=bar_colors[1], alpha=alpha * 0.1)\n",
    "#plot_spectral_curve(test_mse_scgpt, shading=False, errbar=False, c=bar_colors[1], alpha=alpha * 0.1)\n",
    "plot_spectral_curve(test_mse_gf, shading=False, errbar=False, c=bar_colors[2], alpha=alpha * 0.1)\n",
    "#plt.yscale('log',  base=2)"
   ]
  },
  {
   "cell_type": "markdown",
   "metadata": {},
   "source": [
    "### Above but with bar plots instead of scatter plots"
   ]
  },
  {
   "cell_type": "code",
   "execution_count": 416,
   "metadata": {},
   "outputs": [],
   "source": [
    "model_names=['Baseline', 'Geneformer', 'scGPT']\n",
    "model_mses=[test_mse, test_mse_gf, test_mse_scgpt]\n"
   ]
  },
  {
   "cell_type": "code",
   "execution_count": 453,
   "metadata": {},
   "outputs": [
    {
     "data": {
      "text/plain": [
       "array([-1.5, -1. , -0.5,  0. ,  0.5,  1. ,  1.5])"
      ]
     },
     "execution_count": 453,
     "metadata": {},
     "output_type": "execute_result"
    }
   ],
   "source": [
    "np.arange(-len(model_names)/2 + 1, len(model_names)/2 - 0.5, 0.5) "
   ]
  },
  {
   "cell_type": "code",
   "execution_count": 455,
   "metadata": {},
   "outputs": [
    {
     "data": {
      "text/plain": [
       "(5, 5)"
      ]
     },
     "execution_count": 455,
     "metadata": {},
     "output_type": "execute_result"
    }
   ],
   "source": [
    "len(model_names), len(dists_from_cent)"
   ]
  },
  {
   "cell_type": "code",
   "execution_count": null,
   "metadata": {},
   "outputs": [],
   "source": []
  },
  {
   "cell_type": "code",
   "execution_count": 595,
   "metadata": {},
   "outputs": [
    {
     "name": "stderr",
     "output_type": "stream",
     "text": [
      "C:\\Users\\Nik\\AppData\\Local\\Temp\\ipykernel_24980\\3867695007.py:16: MatplotlibDeprecationWarning: The get_cmap function was deprecated in Matplotlib 3.7 and will be removed two minor releases later. Use ``matplotlib.colormaps[name]`` or ``matplotlib.colormaps.get_cmap(obj)`` instead.\n",
      "  cmap = plt.cm.get_cmap('tab20b', len(model_names))\n"
     ]
    },
    {
     "data": {
      "image/png": "[encoded data removed]",
      "text/plain": [
       "<Figure size 300x400 with 1 Axes>"
      ]
     },
     "metadata": {},
     "output_type": "display_data"
    }
   ],
   "source": [
    "model_names = ['Baseline', 'UCE', 'Geneformer', 'scGPT', 'scGPT3']\n",
    "model_mses = [test_mse, test_mse_uce, test_mse_gf, test_mse_scgpt, test_mse_scgpt]\n",
    "\n",
    "\n",
    "spectral_params = ['0.0', '0.1', '0.2', '0.3', '0.4', '0.5', '0.6', '0.7'] \n",
    "x_labels = spectral_params\n",
    "bars = []\n",
    "#dists_from_cent = np.arange(-len(model_names)/2 + 1, len(model_names)/2 - 0.5, 0.5) #needs to be equal to the number of modles with equal spacing\n",
    "dists_from_cent = [-1.0, -0.5, 0,  0.5, 1.0]  #for 4 modles needs to be manulaly set for a n modles amount\n",
    "plt.figure(figsize=(3, 4))\n",
    "#dists_from_cent = [-0.5, 0, 0.5]\n",
    "#e.g. [-1.5, -0.5, 0,  0.5, 1.5] for modles\n",
    "assert len(dists_from_cent) == len(model_names)\n",
    "pivot = np.arange(len(x_labels)) # pivot points for bars/ticks\n",
    "\n",
    "cmap = plt.cm.get_cmap('tab20b', len(model_names)) \n",
    "bar_colors = [cmap(i) for i in range(len(model_names))]\n",
    "\n",
    "width = 0.1\n",
    "for model, m_mse, dis_from_cent, c in zip(model_names, model_mses, dists_from_cent, bar_colors):\n",
    "    y = m_mse.mean()\n",
    "    bar = [p + (dis_from_cent * width * 2.5) for p in pivot]\n",
    "    bars.append(bar)\n",
    "    plt.barh(bar, y, width, alpha=1.0,\n",
    "    label=model,\n",
    "    color=c\n",
    "    #yerr=m_mse.std()\n",
    "    )\n",
    "    for rep in m_mse.iterrows():\n",
    "        plt.scatter(rep[1], bar, color=c, edgecolors='black', linewidths=0.5, s=5)\n",
    "\n",
    "plt.yticks(np.arange(8), spectral_params) #rotation='vertical')\n",
    "plt.xlabel('MSE')\n",
    "plt.ylabel('Spectral Parameter')\n",
    "plt.legend(loc='lower right', fontsize=6)\n",
    "#plt.xlim(0.05, 0.17)\n",
    "plt.xlim(0.05, 0.165)\n",
    "#plt.show()\n",
    "#plt.yscale('log',  base=2)\n",
    "#plt.bar(baseline_ba)\n",
    "plt.tight_layout()\n",
    "plt.savefig('paper_figs/bar_all_sp_mse.png', dpi=300)\n",
    "plt.show()\n"
   ]
  },
  {
   "cell_type": "markdown",
   "metadata": {},
   "source": [
    "### Tables for all spesctral params"
   ]
  },
  {
   "cell_type": "code",
   "execution_count": 577,
   "metadata": {},
   "outputs": [],
   "source": [
    "all_mean = {}\n",
    "all_sd = {}\n",
    "for m_name, m_mses in zip(model_names, model_mses):\n",
    "    m_ave_mse = m_mses.mean(axis=0)\n",
    "    m_sd_mse = m_mses.std(axis=0)\n",
    "    new_idx = pd.Index([idx.split('_')[-1] for idx in m_ave_mse.index])\n",
    "    m_ave_mse.index = new_idx\n",
    "    m_sd_mse.index = new_idx\n",
    "    all_mean[m_name] = pd.DataFrame(m_ave_mse)\n",
    "    all_sd[m_name] = pd.DataFrame(m_sd_mse)\n",
    "\n",
    "all_mean_df = pd.concat(all_mean, axis=1)\n",
    "all_sd_df = pd.concat(all_sd, axis=1)\n",
    "all_mean_df.columns = model_names\n",
    "all_sd_df.columns = model_names"
   ]
  },
  {
   "cell_type": "code",
   "execution_count": 578,
   "metadata": {},
   "outputs": [
    {
     "data": {
      "text/html": [
       "<div>\n",
       "<style scoped>\n",
       "    .dataframe tbody tr th:only-of-type {\n",
       "        vertical-align: middle;\n",
       "    }\n",
       "\n",
       "    .dataframe tbody tr th {\n",
       "        vertical-align: top;\n",
       "    }\n",
       "\n",
       "    .dataframe thead th {\n",
       "        text-align: right;\n",
       "    }\n",
       "</style>\n",
       "<table border=\"1\" class=\"dataframe\">\n",
       "  <thead>\n",
       "    <tr style=\"text-align: right;\">\n",
       "      <th></th>\n",
       "      <th>Baseline</th>\n",
       "      <th>UCE</th>\n",
       "      <th>Geneformer</th>\n",
       "      <th>scGPT</th>\n",
       "      <th>scGPT3</th>\n",
       "    </tr>\n",
       "  </thead>\n",
       "  <tbody>\n",
       "    <tr>\n",
       "      <th>0.0</th>\n",
       "      <td>0.059489</td>\n",
       "      <td>0.063576</td>\n",
       "      <td>0.061446</td>\n",
       "      <td>0.063644</td>\n",
       "      <td>0.063644</td>\n",
       "    </tr>\n",
       "    <tr>\n",
       "      <th>0.1</th>\n",
       "      <td>0.061836</td>\n",
       "      <td>0.068811</td>\n",
       "      <td>0.065152</td>\n",
       "      <td>0.068477</td>\n",
       "      <td>0.068477</td>\n",
       "    </tr>\n",
       "    <tr>\n",
       "      <th>0.2</th>\n",
       "      <td>0.060356</td>\n",
       "      <td>0.069340</td>\n",
       "      <td>0.062333</td>\n",
       "      <td>0.073137</td>\n",
       "      <td>0.073137</td>\n",
       "    </tr>\n",
       "    <tr>\n",
       "      <th>0.3</th>\n",
       "      <td>0.064548</td>\n",
       "      <td>0.081840</td>\n",
       "      <td>0.065880</td>\n",
       "      <td>0.067325</td>\n",
       "      <td>0.067325</td>\n",
       "    </tr>\n",
       "    <tr>\n",
       "      <th>0.4</th>\n",
       "      <td>0.062046</td>\n",
       "      <td>0.084433</td>\n",
       "      <td>0.115581</td>\n",
       "      <td>0.129114</td>\n",
       "      <td>0.129114</td>\n",
       "    </tr>\n",
       "    <tr>\n",
       "      <th>0.5</th>\n",
       "      <td>0.067545</td>\n",
       "      <td>0.070732</td>\n",
       "      <td>0.072739</td>\n",
       "      <td>0.101507</td>\n",
       "      <td>0.101507</td>\n",
       "    </tr>\n",
       "    <tr>\n",
       "      <th>0.6</th>\n",
       "      <td>0.069679</td>\n",
       "      <td>0.082063</td>\n",
       "      <td>0.159142</td>\n",
       "      <td>0.153515</td>\n",
       "      <td>0.153515</td>\n",
       "    </tr>\n",
       "    <tr>\n",
       "      <th>0.7</th>\n",
       "      <td>0.084928</td>\n",
       "      <td>0.088378</td>\n",
       "      <td>0.084964</td>\n",
       "      <td>0.093777</td>\n",
       "      <td>0.093777</td>\n",
       "    </tr>\n",
       "  </tbody>\n",
       "</table>\n",
       "</div>"
      ],
      "text/plain": [
       "     Baseline       UCE  Geneformer     scGPT    scGPT3\n",
       "0.0  0.059489  0.063576    0.061446  0.063644  0.063644\n",
       "0.1  0.061836  0.068811    0.065152  0.068477  0.068477\n",
       "0.2  0.060356  0.069340    0.062333  0.073137  0.073137\n",
       "0.3  0.064548  0.081840    0.065880  0.067325  0.067325\n",
       "0.4  0.062046  0.084433    0.115581  0.129114  0.129114\n",
       "0.5  0.067545  0.070732    0.072739  0.101507  0.101507\n",
       "0.6  0.069679  0.082063    0.159142  0.153515  0.153515\n",
       "0.7  0.084928  0.088378    0.084964  0.093777  0.093777"
      ]
     },
     "execution_count": 578,
     "metadata": {},
     "output_type": "execute_result"
    }
   ],
   "source": [
    "all_mean_df"
   ]
  },
  {
   "cell_type": "code",
   "execution_count": 579,
   "metadata": {},
   "outputs": [
    {
     "data": {
      "text/html": [
       "<div>\n",
       "<style scoped>\n",
       "    .dataframe tbody tr th:only-of-type {\n",
       "        vertical-align: middle;\n",
       "    }\n",
       "\n",
       "    .dataframe tbody tr th {\n",
       "        vertical-align: top;\n",
       "    }\n",
       "\n",
       "    .dataframe thead th {\n",
       "        text-align: right;\n",
       "    }\n",
       "</style>\n",
       "<table border=\"1\" class=\"dataframe\">\n",
       "  <thead>\n",
       "    <tr style=\"text-align: right;\">\n",
       "      <th></th>\n",
       "      <th>Baseline</th>\n",
       "      <th>UCE</th>\n",
       "      <th>Geneformer</th>\n",
       "      <th>scGPT</th>\n",
       "      <th>scGPT3</th>\n",
       "    </tr>\n",
       "  </thead>\n",
       "  <tbody>\n",
       "    <tr>\n",
       "      <th>0.0</th>\n",
       "      <td>0.001697</td>\n",
       "      <td>0.000796</td>\n",
       "      <td>0.003441</td>\n",
       "      <td>0.005112</td>\n",
       "      <td>0.005112</td>\n",
       "    </tr>\n",
       "    <tr>\n",
       "      <th>0.1</th>\n",
       "      <td>0.002281</td>\n",
       "      <td>0.001919</td>\n",
       "      <td>0.002120</td>\n",
       "      <td>0.002947</td>\n",
       "      <td>0.002947</td>\n",
       "    </tr>\n",
       "    <tr>\n",
       "      <th>0.2</th>\n",
       "      <td>0.002430</td>\n",
       "      <td>0.004857</td>\n",
       "      <td>0.002764</td>\n",
       "      <td>0.013928</td>\n",
       "      <td>0.013928</td>\n",
       "    </tr>\n",
       "    <tr>\n",
       "      <th>0.3</th>\n",
       "      <td>0.006574</td>\n",
       "      <td>0.002662</td>\n",
       "      <td>0.004952</td>\n",
       "      <td>0.004673</td>\n",
       "      <td>0.004673</td>\n",
       "    </tr>\n",
       "    <tr>\n",
       "      <th>0.4</th>\n",
       "      <td>0.004157</td>\n",
       "      <td>0.025914</td>\n",
       "      <td>0.046013</td>\n",
       "      <td>0.058560</td>\n",
       "      <td>0.058560</td>\n",
       "    </tr>\n",
       "    <tr>\n",
       "      <th>0.5</th>\n",
       "      <td>0.004482</td>\n",
       "      <td>0.010193</td>\n",
       "      <td>0.010641</td>\n",
       "      <td>0.049034</td>\n",
       "      <td>0.049034</td>\n",
       "    </tr>\n",
       "    <tr>\n",
       "      <th>0.6</th>\n",
       "      <td>0.011036</td>\n",
       "      <td>0.001580</td>\n",
       "      <td>0.136496</td>\n",
       "      <td>0.125749</td>\n",
       "      <td>0.125749</td>\n",
       "    </tr>\n",
       "    <tr>\n",
       "      <th>0.7</th>\n",
       "      <td>0.006448</td>\n",
       "      <td>0.007020</td>\n",
       "      <td>0.007601</td>\n",
       "      <td>0.008154</td>\n",
       "      <td>0.008154</td>\n",
       "    </tr>\n",
       "  </tbody>\n",
       "</table>\n",
       "</div>"
      ],
      "text/plain": [
       "     Baseline       UCE  Geneformer     scGPT    scGPT3\n",
       "0.0  0.001697  0.000796    0.003441  0.005112  0.005112\n",
       "0.1  0.002281  0.001919    0.002120  0.002947  0.002947\n",
       "0.2  0.002430  0.004857    0.002764  0.013928  0.013928\n",
       "0.3  0.006574  0.002662    0.004952  0.004673  0.004673\n",
       "0.4  0.004157  0.025914    0.046013  0.058560  0.058560\n",
       "0.5  0.004482  0.010193    0.010641  0.049034  0.049034\n",
       "0.6  0.011036  0.001580    0.136496  0.125749  0.125749\n",
       "0.7  0.006448  0.007020    0.007601  0.008154  0.008154"
      ]
     },
     "execution_count": 579,
     "metadata": {},
     "output_type": "execute_result"
    }
   ],
   "source": [
    "all_sd_df"
   ]
  },
  {
   "cell_type": "markdown",
   "metadata": {},
   "source": [
    "## Plots and table for differentally expressed genes "
   ]
  },
  {
   "cell_type": "code",
   "execution_count": 98,
   "metadata": {},
   "outputs": [],
   "source": [
    "#diff expressed gene results have _de in there tags find idx of de gene\n",
    "def find_diff_expres_subset(raw_results_df):\n",
    "    diff_expres_idx = []\n",
    "    diff_expres_genes = []\n",
    "    for i, t in enumerate(raw_results_df['Tags']):\n",
    "        if '_de' in t.split(',')[0]:\n",
    "            diff_expres_idx.append(i)\n",
    "            diff_expres_genes.append(t.split('_')[0])\n",
    "\n",
    "    de_df = raw_results_df.iloc[diff_expres_idx].copy(deep=True)\n",
    "    de_df['diff_express_gene'] = diff_expres_genes\n",
    "    #drop missing (old perts we considered)\n",
    "    de_df = de_df[~de_df['test_baseline/mse'].isna()]\n",
    "\n",
    "    return diff_expres_idx, diff_expres_genes, de_df\n",
    "\n",
    "def find_de_mets_by_gene(diff_express_df, sp, model, metrics=['test_baseline/mse', 'test_de/mse']):\n",
    "    '''find tabular metrics grouped by de gene for a given (sp) spectral param'''\n",
    "    results = {}\n",
    "    sp_subset = diff_express_df[diff_express_df['Group'] == f'test_{model}_{sp}']\n",
    "    for g in sp_subset['diff_express_gene']:\n",
    "        de_df_subset = sp_subset[sp_subset['diff_express_gene'] == g]\n",
    "        results[g] = de_df_subset[metrics]\n",
    "    return results\n",
    "\n",
    "def create_de_table(de_results_dict, models_name_mapping):\n",
    "    #tabular results \n",
    "    de_tab = pd.concat(de_results_dict)\n",
    "    if isinstance(de_tab, pd.Series):\n",
    "        de_tab = pd.DataFrame(de_tab)\n",
    "    #fmt table\n",
    "    cols = [models_name_mapping[l] for l in de_tab.columns]\n",
    "    de_tab.columns = cols\n",
    "    new_idx = [idx[0] for idx in de_tab.index]\n",
    "    de_tab.index = new_idx\n",
    "    de_tab = de_tab.T.sort_values(by=new_idx[0])\n",
    "    return de_tab"
   ]
  },
  {
   "cell_type": "code",
   "execution_count": 85,
   "metadata": {},
   "outputs": [],
   "source": [
    "#subset raw results to just differenctal expression results \n",
    "diff_expres_idx, diff_expres_genes, de_df = find_diff_expres_subset(df)\n",
    "#*_, de_df_r2 = find_diff_expres_subset(df2)"
   ]
  },
  {
   "cell_type": "markdown",
   "metadata": {},
   "source": [
    "### table of de results"
   ]
  },
  {
   "cell_type": "code",
   "execution_count": 99,
   "metadata": {},
   "outputs": [
    {
     "data": {
      "text/html": [
       "<div>\n",
       "<style scoped>\n",
       "    .dataframe tbody tr th:only-of-type {\n",
       "        vertical-align: middle;\n",
       "    }\n",
       "\n",
       "    .dataframe tbody tr th {\n",
       "        vertical-align: top;\n",
       "    }\n",
       "\n",
       "    .dataframe thead th {\n",
       "        text-align: right;\n",
       "    }\n",
       "</style>\n",
       "<table border=\"1\" class=\"dataframe\">\n",
       "  <thead>\n",
       "    <tr style=\"text-align: right;\">\n",
       "      <th></th>\n",
       "      <th>SLC4A1</th>\n",
       "      <th>SET</th>\n",
       "    </tr>\n",
       "  </thead>\n",
       "  <tbody>\n",
       "    <tr>\n",
       "      <th>MLP Baseline_r2</th>\n",
       "      <td>0.370128</td>\n",
       "      <td>0.296696</td>\n",
       "    </tr>\n",
       "  </tbody>\n",
       "</table>\n",
       "</div>"
      ],
      "text/plain": [
       "                   SLC4A1       SET\n",
       "MLP Baseline_r2  0.370128  0.296696"
      ]
     },
     "execution_count": 99,
     "metadata": {},
     "output_type": "execute_result"
    }
   ],
   "source": [
    "#sp and probe_model_ds should be the same for all de_sp dfs created\n",
    "sp = 0.0\n",
    "probe_model_ds = 'mlp_norman'\n",
    "\n",
    "#name will change depending on fm model used \n",
    "models_name_mapping = {'test_baseline/mse': 'Null Benchmark', 'test_de/mse' : 'MLP Baseline'} \n",
    "\n",
    "de_sp0 = find_de_mets_by_gene(de_df, sp, probe_model_ds)\n",
    "de_sp0_tab = create_de_table(de_sp0, models_name_mapping)\n",
    "\n",
    "models_name_mapping = {'test_de/mse' : 'MLP Baseline_r2'} \n",
    "de_sp0_r2 = find_de_mets_by_gene(de_df, sp, probe_model_ds,  metrics='test_de/mse')\n",
    "de_sp0_r2_tab = create_de_table(de_sp0_r2, models_name_mapping)\n",
    "de_sp0_r2_tab"
   ]
  },
  {
   "cell_type": "code",
   "execution_count": 100,
   "metadata": {},
   "outputs": [
    {
     "data": {
      "text/html": [
       "<div>\n",
       "<style scoped>\n",
       "    .dataframe tbody tr th:only-of-type {\n",
       "        vertical-align: middle;\n",
       "    }\n",
       "\n",
       "    .dataframe tbody tr th {\n",
       "        vertical-align: top;\n",
       "    }\n",
       "\n",
       "    .dataframe thead th {\n",
       "        text-align: right;\n",
       "    }\n",
       "</style>\n",
       "<table border=\"1\" class=\"dataframe\">\n",
       "  <thead>\n",
       "    <tr style=\"text-align: right;\">\n",
       "      <th></th>\n",
       "      <th>SLC4A1</th>\n",
       "      <th>SET</th>\n",
       "    </tr>\n",
       "  </thead>\n",
       "  <tbody>\n",
       "    <tr>\n",
       "      <th>MLP Baseline</th>\n",
       "      <td>0.370128</td>\n",
       "      <td>0.296696</td>\n",
       "    </tr>\n",
       "    <tr>\n",
       "      <th>Null Benchmark</th>\n",
       "      <td>0.383467</td>\n",
       "      <td>0.300423</td>\n",
       "    </tr>\n",
       "    <tr>\n",
       "      <th>MLP Baseline_r2</th>\n",
       "      <td>0.370128</td>\n",
       "      <td>0.296696</td>\n",
       "    </tr>\n",
       "  </tbody>\n",
       "</table>\n",
       "</div>"
      ],
      "text/plain": [
       "                   SLC4A1       SET\n",
       "MLP Baseline     0.370128  0.296696\n",
       "Null Benchmark   0.383467  0.300423\n",
       "MLP Baseline_r2  0.370128  0.296696"
      ]
     },
     "execution_count": 100,
     "metadata": {},
     "output_type": "execute_result"
    }
   ],
   "source": [
    "pd.concat((de_sp0_tab, de_sp0_r2_tab))"
   ]
  },
  {
   "cell_type": "code",
   "execution_count": 86,
   "metadata": {},
   "outputs": [
    {
     "data": {
      "text/html": [
       "<div>\n",
       "<style scoped>\n",
       "    .dataframe tbody tr th:only-of-type {\n",
       "        vertical-align: middle;\n",
       "    }\n",
       "\n",
       "    .dataframe tbody tr th {\n",
       "        vertical-align: top;\n",
       "    }\n",
       "\n",
       "    .dataframe thead th {\n",
       "        text-align: right;\n",
       "    }\n",
       "</style>\n",
       "<table border=\"1\" class=\"dataframe\">\n",
       "  <thead>\n",
       "    <tr style=\"text-align: right;\">\n",
       "      <th></th>\n",
       "      <th>IKZF3</th>\n",
       "    </tr>\n",
       "  </thead>\n",
       "  <tbody>\n",
       "    <tr>\n",
       "      <th>MLP Baseline</th>\n",
       "      <td>0.186191</td>\n",
       "    </tr>\n",
       "    <tr>\n",
       "      <th>Null Benchmark</th>\n",
       "      <td>0.190044</td>\n",
       "    </tr>\n",
       "  </tbody>\n",
       "</table>\n",
       "</div>"
      ],
      "text/plain": [
       "                   IKZF3\n",
       "MLP Baseline    0.186191\n",
       "Null Benchmark  0.190044"
      ]
     },
     "execution_count": 86,
     "metadata": {},
     "output_type": "execute_result"
    }
   ],
   "source": [
    "sp = 0.7\n",
    "probe_model_ds = 'mlp_norman'\n",
    "models_name_mapping = {'test_baseline/mse': 'Null Benchmark', 'test_de/mse' : 'MLP Baseline'} #form de_df above\n",
    "de_sp7 = find_de_mets_by_gene(de_df, sp, probe_model_ds)\n",
    "de_sp7_tab = create_de_table(de_sp7, models_name_mapping)\n",
    "#de_sp0_r2_tab = create_de_table(de_sp0_r2, models_name_mapping)\n",
    "de_sp7_tab"
   ]
  },
  {
   "cell_type": "markdown",
   "metadata": {},
   "source": [
    "### box plots of de results"
   ]
  },
  {
   "cell_type": "code",
   "execution_count": 103,
   "metadata": {},
   "outputs": [],
   "source": [
    "def de_boxplot(de_results_dict, pert, models_name_mapping):\n",
    "    y = de_results_dict[pert]\n",
    "    assert len(y) == 1 #no reps \n",
    "    y = y.iloc[0].sort_values(ascending=True)\n",
    "    cmap = plt.cm.get_cmap('tab20b', len(y)) \n",
    "    bar_colors = [cmap(i) for i in range(len(y))]\n",
    "    bar_labels = [models_name_mapping[l] for l in y.index]\n",
    "    plt.bar(bar_labels, y, label=bar_labels, \n",
    "            color=bar_colors, alpha=0.9\n",
    "            )\n",
    "    plt.xlabel(f'Perturbation {pert}')\n",
    "    plt.ylabel('MSE')\n",
    "    #plt.show()"
   ]
  },
  {
   "cell_type": "code",
   "execution_count": 218,
   "metadata": {},
   "outputs": [
    {
     "data": {
      "text/plain": [
       "{'test_de/mse': 'MLP Baseline_r2'}"
      ]
     },
     "execution_count": 218,
     "metadata": {},
     "output_type": "execute_result"
    }
   ],
   "source": [
    "models_name_mapping"
   ]
  },
  {
   "cell_type": "code",
   "execution_count": 217,
   "metadata": {},
   "outputs": [
    {
     "data": {
      "text/html": [
       "<div>\n",
       "<style scoped>\n",
       "    .dataframe tbody tr th:only-of-type {\n",
       "        vertical-align: middle;\n",
       "    }\n",
       "\n",
       "    .dataframe tbody tr th {\n",
       "        vertical-align: top;\n",
       "    }\n",
       "\n",
       "    .dataframe thead th {\n",
       "        text-align: right;\n",
       "    }\n",
       "</style>\n",
       "<table border=\"1\" class=\"dataframe\">\n",
       "  <thead>\n",
       "    <tr style=\"text-align: right;\">\n",
       "      <th></th>\n",
       "      <th>test_baseline/mse</th>\n",
       "      <th>test_de/mse</th>\n",
       "    </tr>\n",
       "  </thead>\n",
       "  <tbody>\n",
       "    <tr>\n",
       "      <th>1</th>\n",
       "      <td>0.383467</td>\n",
       "      <td>0.370128</td>\n",
       "    </tr>\n",
       "  </tbody>\n",
       "</table>\n",
       "</div>"
      ],
      "text/plain": [
       "   test_baseline/mse  test_de/mse\n",
       "1           0.383467     0.370128"
      ]
     },
     "execution_count": 217,
     "metadata": {},
     "output_type": "execute_result"
    }
   ],
   "source": [
    "de_sp0[pert]"
   ]
  },
  {
   "cell_type": "code",
   "execution_count": 219,
   "metadata": {},
   "outputs": [
    {
     "name": "stderr",
     "output_type": "stream",
     "text": [
      "C:\\Users\\Nik\\AppData\\Local\\Temp\\ipykernel_24980\\170521812.py:5: MatplotlibDeprecationWarning: The get_cmap function was deprecated in Matplotlib 3.7 and will be removed two minor releases later. Use ``matplotlib.colormaps[name]`` or ``matplotlib.colormaps.get_cmap(obj)`` instead.\n",
      "  cmap = plt.cm.get_cmap('tab20b', len(y))\n"
     ]
    },
    {
     "data": {
      "image/png": "[encoded data removed]",
      "text/plain": [
       "<Figure size 640x480 with 1 Axes>"
      ]
     },
     "metadata": {},
     "output_type": "display_data"
    }
   ],
   "source": [
    "#just using SLC4A1 pert for sp of zero\n",
    "pert = 'SLC4A1'\n",
    "models_name_mapping = {'test_baseline/mse': 'Null Benchmark', 'test_de/mse' : 'MLP Baseline'} \n",
    "de_boxplot(de_sp0, pert, models_name_mapping)\n",
    "plt.show()"
   ]
  },
  {
   "cell_type": "code",
   "execution_count": null,
   "metadata": {},
   "outputs": [],
   "source": []
  }
 ],
 "metadata": {
  "kernelspec": {
   "display_name": "torch_env",
   "language": "python",
   "name": "python3"
  },
  "language_info": {
   "codemirror_mode": {
    "name": "ipython",
    "version": 3
   },
   "file_extension": ".py",
   "mimetype": "text/x-python",
   "name": "python",
   "nbconvert_exporter": "python",
   "pygments_lexer": "ipython3",
   "version": "3.10.13"
  }
 },
 "nbformat": 4,
 "nbformat_minor": 2
}
