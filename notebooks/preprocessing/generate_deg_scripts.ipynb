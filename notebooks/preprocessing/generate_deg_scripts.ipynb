{
 "cells": [
  {
   "cell_type": "code",
   "id": "initial_id",
   "metadata": {
    "collapsed": true,
    "ExecuteTime": {
     "end_time": "2024-10-01T15:40:45.370900Z",
     "start_time": "2024-10-01T15:40:39.884779Z"
    }
   },
   "source": [
    "import os.path\n",
    "\n",
    "import numpy as np\n",
    "%matplotlib inline\n",
    "import matplotlib.pyplot as plt\n",
    "from tqdm import tqdm\n",
    "import scanpy as sc\n",
    "from src.utils.spectra.dataset import SpectraDataset\n",
    "from src.utils.spectra.perturb import Spectra\n",
    "from gears import PertData\n",
    "import pickle as pkl"
   ],
   "outputs": [],
   "execution_count": 3
  },
  {
   "cell_type": "code",
   "source": [
    "class PerturbGraphData(SpectraDataset):\n",
    "    def parse(self, pert_data):\n",
    "        if isinstance(pert_data, PertData):\n",
    "            self.adata = pert_data.adata\n",
    "        else:\n",
    "            self.adata = pert_data\n",
    "        self.control_expression = self.adata[self.adata.obs['condition'] == 'ctrl'].X.toarray().mean(axis=0)\n",
    "        return [p for p in self.adata.obs['condition'].unique() if p != 'ctrl']\n",
    "\n",
    "    def get_mean_logfold_change(self, perturbation):\n",
    "        perturbation_expression = self.adata[self.adata.obs['condition'] == perturbation].X.toarray().mean(axis=0)\n",
    "        logfold_change = np.nan_to_num(np.log2(perturbation_expression + 1) - np.log2(self.control_expression + 1))\n",
    "        return logfold_change\n",
    "\n",
    "    def sample_to_index(self, sample):\n",
    "        if not hasattr(self, 'index_to_sequence'):\n",
    "            print(\"Generating index to sequence\")\n",
    "            self.index_to_sequence = {}\n",
    "            for i in tqdm(range(len(self))):\n",
    "                x = self.__getitem__(i)\n",
    "                self.index_to_sequence['-'.join(list(x))] = i\n",
    "\n",
    "        return self.index_to_sequence[sample]\n",
    "    \n",
    "    def __len__(self):\n",
    "        return len(self.samples)\n",
    "    \n",
    "    def __getitem__(self, idx):\n",
    "        perturbation = self.samples[idx]\n",
    "        return self.get_mean_logfold_change(perturbation)"
   ],
   "metadata": {
    "collapsed": false,
    "ExecuteTime": {
     "end_time": "2024-10-01T15:40:45.375338Z",
     "start_time": "2024-10-01T15:40:45.371836Z"
    }
   },
   "id": "296e51ca860abd00",
   "outputs": [],
   "execution_count": 4
  },
  {
   "cell_type": "code",
   "source": [
    "class SPECTRAPerturb(Spectra):\n",
    "    def spectra_properties(self, sample_one, sample_two):\n",
    "        return -np.linalg.norm(sample_one - sample_two)\n",
    "\n",
    "    def cross_split_overlap(self, train, test):\n",
    "        average_similarity = []\n",
    "\n",
    "        for i in test:\n",
    "            for j in train:\n",
    "                average_similarity.append(self.spectra_properties(i, j))\n",
    "\n",
    "        return np.mean(average_similarity)"
   ],
   "metadata": {
    "collapsed": false,
    "ExecuteTime": {
     "end_time": "2024-10-01T15:40:45.378111Z",
     "start_time": "2024-10-01T15:40:45.375974Z"
    }
   },
   "id": "5a3955bc597e47dd",
   "outputs": [],
   "execution_count": 5
  },
  {
   "metadata": {
    "ExecuteTime": {
     "end_time": "2024-10-01T15:41:07.762463Z",
     "start_time": "2024-10-01T15:40:45.379286Z"
    }
   },
   "cell_type": "code",
   "source": [
    "adata = sc.read('../data/norman_2019_raw.h5ad')\n",
    "data_type = 'norman_2'"
   ],
   "id": "d0c7982ca7deda45",
   "outputs": [],
   "execution_count": 6
  },
  {
   "metadata": {
    "ExecuteTime": {
     "end_time": "2024-10-01T15:41:39.509874Z",
     "start_time": "2024-10-01T15:41:07.763580Z"
    }
   },
   "cell_type": "code",
   "source": [
    "nonzero_genes = (adata.X.sum(axis=0) > 5).A1\n",
    "filtered_adata = adata[:, nonzero_genes]\n",
    "adata.obs['condition'] = adata.obs['guide_ids'].cat.rename_categories({'': 'ctrl'})\n",
    "# data_type = input(f\"Pick the data type from ['norman_1', 'norman_2']: \")\n",
    "# assert data_type in ['norman_1', 'norman_2']\n",
    "\n",
    "data_type = \"norman_2\"\n",
    "\n",
    "if data_type == \"norman_1\":\n",
    "    single_gene_mask = [True if \",\" not in name else False for name in adata.obs['condition']]\n",
    "    adata = filtered_adata[single_gene_mask, :]\n",
    "else:\n",
    "    adata.obs['condition'] = adata.obs['condition'].str.replace(',', '+')\n",
    "\n",
    "genes = adata.var['gene_symbols'].to_list()\n",
    "genes_and_ctrl = genes + ['ctrl']\n",
    "\n",
    "# we remove the cells with perts that are not in the genes because we need gene expression values\n",
    "# to generate an in-silico perturbation embedding\n",
    "if data_type == \"norman_1\":\n",
    "    adata = adata[adata.obs['condition'].isin(genes_and_ctrl), :]\n",
    "else:\n",
    "    conditions = adata.obs['condition']\n",
    "    \n",
    "    # need to account for the two-gene perturbations\n",
    "    filtered_conditions = conditions.apply(\n",
    "        lambda cond: cond in genes_and_ctrl or (\n",
    "                '+' in cond and all(gene in genes_and_ctrl for gene in cond.split('+'))\n",
    "        )\n",
    "    )\n",
    "    pert_adata = adata[filtered_conditions, :]"
   ],
   "id": "2ee35e268619004",
   "outputs": [],
   "execution_count": 7
  },
  {
   "cell_type": "code",
   "source": "perturb_graph_data = PerturbGraphData(pert_adata, 'norman')",
   "metadata": {
    "collapsed": false,
    "ExecuteTime": {
     "end_time": "2024-10-01T15:41:40.111749Z",
     "start_time": "2024-10-01T15:41:39.510804Z"
    }
   },
   "id": "6154134b69ce6317",
   "outputs": [],
   "execution_count": 8
  },
  {
   "metadata": {
    "ExecuteTime": {
     "end_time": "2024-10-01T15:41:40.117822Z",
     "start_time": "2024-10-01T15:41:40.112737Z"
    }
   },
   "cell_type": "code",
   "source": [
    "all_perts_orig = [p for p in pert_adata.obs['condition'].unique() if p != 'ctrl']\n",
    "\n",
    "all_perts_map = {i: pert for i, pert in enumerate(all_perts_orig)}"
   ],
   "id": "c3eae805e9d905b2",
   "outputs": [],
   "execution_count": 9
  },
  {
   "metadata": {
    "ExecuteTime": {
     "end_time": "2024-10-01T15:41:40.493444Z",
     "start_time": "2024-10-01T15:41:40.118482Z"
    }
   },
   "cell_type": "code",
   "source": [
    "perts = PerturbGraphData.parse(perturb_graph_data, pert_adata)\n",
    "perts = [p for p in perts if '+' in p]\n",
    "len(perts)"
   ],
   "id": "e4e3ad0d72b6a663",
   "outputs": [
    {
     "data": {
      "text/plain": [
       "129"
      ]
     },
     "execution_count": 10,
     "metadata": {},
     "output_type": "execute_result"
    }
   ],
   "execution_count": 10
  },
  {
   "metadata": {
    "ExecuteTime": {
     "end_time": "2024-10-01T15:41:40.496976Z",
     "start_time": "2024-10-01T15:41:40.494256Z"
    }
   },
   "cell_type": "code",
   "source": [
    "sp_ids = [\"0.00\", \"0.10\", \"0.20\", \"0.30\", \"0.40\", \"0.50\", \"0.60\", \"0.70\"]\n",
    "replicates = 3 \n",
    "all_sps = [f\"{x}_{y}\" for x in sp_ids for y in range(replicates)]\n",
    "all_sps"
   ],
   "id": "9297013631cf36f6",
   "outputs": [
    {
     "data": {
      "text/plain": [
       "['0.00_0',\n",
       " '0.00_1',\n",
       " '0.00_2',\n",
       " '0.10_0',\n",
       " '0.10_1',\n",
       " '0.10_2',\n",
       " '0.20_0',\n",
       " '0.20_1',\n",
       " '0.20_2',\n",
       " '0.30_0',\n",
       " '0.30_1',\n",
       " '0.30_2',\n",
       " '0.40_0',\n",
       " '0.40_1',\n",
       " '0.40_2',\n",
       " '0.50_0',\n",
       " '0.50_1',\n",
       " '0.50_2',\n",
       " '0.60_0',\n",
       " '0.60_1',\n",
       " '0.60_2',\n",
       " '0.70_0',\n",
       " '0.70_1',\n",
       " '0.70_2']"
      ]
     },
     "execution_count": 11,
     "metadata": {},
     "output_type": "execute_result"
    }
   ],
   "execution_count": 11
  },
  {
   "metadata": {
    "ExecuteTime": {
     "end_time": "2024-10-01T15:41:40.506578Z",
     "start_time": "2024-10-01T15:41:40.498988Z"
    }
   },
   "cell_type": "code",
   "source": [
    "split_map = {}\n",
    "for split in all_sps:\n",
    "    split_id = f'SP_{split}'\n",
    "    with open(f'../../data/splits/perturb/{data_type}/{data_type}_SPECTRA_splits/{split_id}/test.pkl', 'rb') as f:\n",
    "        spectra_splits = pkl.load(f)\n",
    "    test_perts = [all_perts_map[split] for split in spectra_splits if '+' in all_perts_map[split]]\n",
    "    split_map[split_id] = test_perts"
   ],
   "id": "103f5002704055fc",
   "outputs": [],
   "execution_count": 12
  },
  {
   "metadata": {
    "ExecuteTime": {
     "end_time": "2024-10-01T15:41:40.510839Z",
     "start_time": "2024-10-01T15:41:40.507280Z"
    }
   },
   "cell_type": "code",
   "source": "split_map",
   "id": "58ff2cbba1ddd81e",
   "outputs": [
    {
     "data": {
      "text/plain": [
       "{'SP_0.00_0': ['CEBPA+ZC3HAV1',\n",
       "  'CEBPE+ETS2',\n",
       "  'BCL2L11+TGFBR2',\n",
       "  'ETS2+IKZF3',\n",
       "  'CEBPE+CNN1',\n",
       "  'PTPN12+ZBTB10',\n",
       "  'DUSP9+PRTG',\n",
       "  'IGDCC3+PRTG',\n",
       "  'SAMD1+UBASH3B',\n",
       "  'CDKN1A+CDKN1C',\n",
       "  'ETS2+MAPK1',\n",
       "  'DUSP9+IGDCC3',\n",
       "  'DUSP9+MAPK1',\n",
       "  'DLX2+SNAI1',\n",
       "  'CDKN1A+CDKN1B',\n",
       "  'CEBPE+SET',\n",
       "  'BAK1+TMSB4X',\n",
       "  'FOXA1+FOXL2',\n",
       "  'MAP2K6+SPI1',\n",
       "  'KIF18B+KIF2C',\n",
       "  'FOXA3+FOXL2',\n",
       "  'PTPN12+SAMD1',\n",
       "  'CEBPA+CEBPE',\n",
       "  'AHR+FEV',\n",
       "  'CEBPE+RUNX1T1',\n",
       "  'CBL+UBASH3B',\n",
       "  'ELMSAN1+MAP2K3',\n",
       "  'DUSP9+SNAI1'],\n",
       " 'SP_0.00_1': ['FOXA3+FOXL2',\n",
       "  'SAMD1+TGFBR2',\n",
       "  'ETS2+MAPK1',\n",
       "  'ELMSAN1+MAP2K3',\n",
       "  'PTPN9+UBASH3B',\n",
       "  'S1PR2+SGK1',\n",
       "  'CEBPE+ZC3HAV1',\n",
       "  'CEBPA+CEBPE',\n",
       "  'SNAI1+ZBTB10',\n",
       "  'IER5L+LYL1',\n",
       "  'CEBPE+KLF1',\n",
       "  'FOSB+PTPN12',\n",
       "  'AHR+FEV',\n",
       "  'ELMSAN1+MAP2K6',\n",
       "  'DLX2+SNAI1',\n",
       "  'CBFA2T3+FEV',\n",
       "  'PTPN12+UBASH3B',\n",
       "  'RHOXF2+SET',\n",
       "  'KLF1+MAP2K6',\n",
       "  'PTPN12+UBASH3A',\n",
       "  'SAMD1+UBASH3B',\n",
       "  'HOXC13+ZC3HAV1',\n",
       "  'FOXA1+FOXF1',\n",
       "  'CEBPB+LYL1'],\n",
       " 'SP_0.00_2': ['SGK1+TBX3',\n",
       "  'CEBPA+JUN',\n",
       "  'FOXA1+FOXL2',\n",
       "  'CBL+UBASH3B',\n",
       "  'AHR+FEV',\n",
       "  'S1PR2+SGK1',\n",
       "  'COL2A1+KLF1',\n",
       "  'ETS2+IGDCC3',\n",
       "  'MAPK1+TGFBR2',\n",
       "  'IER5L+LYL1',\n",
       "  'BCL2L11+TGFBR2',\n",
       "  'PTPN12+UBASH3A',\n",
       "  'FOXF1+HOXB9',\n",
       "  'ETS2+PRTG',\n",
       "  'CEBPE+RUNX1T1',\n",
       "  'TBX2+TBX3',\n",
       "  'CEBPA+CEBPE',\n",
       "  'BAK1+TMSB4X',\n",
       "  'CBFA2T3+PRDM1',\n",
       "  'FOXL2+ZNF318',\n",
       "  'AHR+KLF1',\n",
       "  'FOXA1+FOXF1',\n",
       "  'CNN1+UBASH3B',\n",
       "  'FOXA3+FOXL2',\n",
       "  'OSR2+UBASH3B',\n",
       "  'CEBPB+JUN',\n",
       "  'IGDCC3+ZBTB25',\n",
       "  'RHOXF2+ZBTB25'],\n",
       " 'SP_0.10_0': ['MAP2K6+SPI1',\n",
       "  'DLX2+ZBTB10',\n",
       "  'CEBPB+JUN',\n",
       "  'IKZF3+MAP2K3',\n",
       "  'ELMSAN1+LHX1',\n",
       "  'CNN1+UBASH3B',\n",
       "  'FOXA3+FOXL2',\n",
       "  'DUSP9+KLF1',\n",
       "  'CNN1+MAPK1',\n",
       "  'FOXF1+HOXB9',\n",
       "  'FOXA3+FOXF1',\n",
       "  'CBL+UBASH3A',\n",
       "  'CBFA2T3+FEV',\n",
       "  'SAMD1+ZBTB1',\n",
       "  'PTPN12+UBASH3B',\n",
       "  'CEBPB+LYL1',\n",
       "  'OSR2+PTPN12',\n",
       "  'SGK1+TBX3',\n",
       "  'FOXA1+FOXA3',\n",
       "  'PTPN12+SNAI1'],\n",
       " 'SP_0.10_1': ['DUSP9+IGDCC3',\n",
       "  'SNAI1+ZBTB10',\n",
       "  'BAK1+TMSB4X',\n",
       "  'CEBPE+ETS2',\n",
       "  'IRF1+SET',\n",
       "  'FOSB+UBASH3B',\n",
       "  'ELMSAN1+MAP2K6',\n",
       "  'CEBPB+CEBPE',\n",
       "  'FOXL2+HOXB9',\n",
       "  'AHR+KLF1',\n",
       "  'ELMSAN1+MAP2K3',\n",
       "  'CEBPE+SET',\n",
       "  'CEBPB+LYL1',\n",
       "  'DLX2+SNAI1',\n",
       "  'ETS2+IKZF3',\n",
       "  'CEBPA+CEBPB',\n",
       "  'KLF1+SET',\n",
       "  'SAMD1+UBASH3B',\n",
       "  'PLK4+STIL',\n",
       "  'FOSB+OSR2'],\n",
       " 'SP_0.10_2': ['CBFA2T3+FEV',\n",
       "  'SGK1+TBX3',\n",
       "  'BPGM+SAMD1',\n",
       "  'ETS2+MAP7D1',\n",
       "  'FOXA1+KLF1',\n",
       "  'MAPK1+TGFBR2',\n",
       "  'SAMD1+TGFBR2',\n",
       "  'BAK1+KLF1',\n",
       "  'FOXA3+FOXL2',\n",
       "  'CEBPE+KLF1',\n",
       "  'PRTG+TGFBR2',\n",
       "  'ELMSAN1+MAP2K6',\n",
       "  'CEBPA+ZC3HAV1',\n",
       "  'CBL+UBASH3B',\n",
       "  'CEBPB+CEBPE',\n",
       "  'UBASH3A+UBASH3B',\n",
       "  'ETS2+MAPK1',\n",
       "  'FOXF1+HOXB9'],\n",
       " 'SP_0.20_0': ['FEV+ISL2',\n",
       "  'CEBPE+KLF1',\n",
       "  'CEBPB+FOSB',\n",
       "  'DUSP9+ETS2',\n",
       "  'CEBPB+LYL1',\n",
       "  'COL2A1+KLF1',\n",
       "  'MAP2K3+MAP2K6',\n",
       "  'IRF1+SET',\n",
       "  'SAMD1+ZBTB1',\n",
       "  'SNAI1+ZBTB10',\n",
       "  'ELMSAN1+ZBTB10',\n",
       "  'CEBPA+CEBPE',\n",
       "  'IKZF3+MAPK1'],\n",
       " 'SP_0.20_1': ['DLX2+ZBTB10',\n",
       "  'FOXA1+FOXF1',\n",
       "  'IKZF3+MAP2K3',\n",
       "  'FOXL2+HOXB9',\n",
       "  'S1PR2+SGK1',\n",
       "  'CBL+UBASH3B',\n",
       "  'CEBPB+FOSB',\n",
       "  'CEBPB+JUN',\n",
       "  'DUSP9+MAPK1',\n",
       "  'ETS2+MAPK1'],\n",
       " 'SP_0.20_2': ['PLK4+STIL',\n",
       "  'MAPK1+TGFBR2',\n",
       "  'CBFA2T3+FEV',\n",
       "  'DLX2+SNAI1',\n",
       "  'FEV+MAP7D1',\n",
       "  'FOXA1+FOXF1',\n",
       "  'DUSP9+PRTG',\n",
       "  'FOXL2+POU3F2',\n",
       "  'KLF1+TGFBR2',\n",
       "  'CEBPB+FOSB',\n",
       "  'PTPN12+ZBTB10',\n",
       "  'CBL+CNN1',\n",
       "  'CEBPA+KLF1',\n",
       "  'COL2A1+KLF1'],\n",
       " 'SP_0.30_0': ['SNAI1+ZBTB10',\n",
       "  'DUSP9+PRTG',\n",
       "  'FOXA3+FOXL2',\n",
       "  'CBL+CNN1',\n",
       "  'CEBPE+FOSB',\n",
       "  'CEBPA+KLF1',\n",
       "  'FOSB+IKZF3',\n",
       "  'TBX2+TBX3',\n",
       "  'CBFA2T3+PRDM1'],\n",
       " 'SP_0.30_1': ['MAP2K3+SLC38A2',\n",
       "  'COL2A1+KLF1',\n",
       "  'CEBPB+FOSB',\n",
       "  'CEBPB+MAPK1',\n",
       "  'CEBPE+ETS2',\n",
       "  'FOXL2+MEIS1',\n",
       "  'FEV+ISL2',\n",
       "  'CEBPE+SPI1'],\n",
       " 'SP_0.30_2': ['CNN1+MAPK1',\n",
       "  'CEBPB+FOSB',\n",
       "  'PTPN12+PTPN9',\n",
       "  'CEBPE+ZC3HAV1',\n",
       "  'CEBPE+SET',\n",
       "  'CBL+PTPN12'],\n",
       " 'SP_0.40_0': ['CEBPB+FOSB', 'CBFA2T3+PRDM1', 'COL2A1+KLF1'],\n",
       " 'SP_0.40_1': ['FEV+ISL2',\n",
       "  'FEV+MAP7D1',\n",
       "  'CBFA2T3+FEV',\n",
       "  'BPGM+SAMD1',\n",
       "  'CEBPA+KLF1',\n",
       "  'BAK1+BCL2L11'],\n",
       " 'SP_0.40_2': ['ETS2+MAPK1',\n",
       "  'CEBPE+FOSB',\n",
       "  'CBFA2T3+FEV',\n",
       "  'CEBPB+CEBPE',\n",
       "  'BCL2L11+TGFBR2',\n",
       "  'CBFA2T3+PRDM1'],\n",
       " 'SP_0.50_0': ['ETS2+MAPK1', 'CEBPA+ZC3HAV1', 'KLF1+MAP2K6'],\n",
       " 'SP_0.50_1': ['CEBPE+SPI1', 'DLX2+ZBTB10'],\n",
       " 'SP_0.50_2': ['FOXA3+FOXL2', 'COL2A1+KLF1', 'DLX2+ZBTB10', 'CBFA2T3+FEV'],\n",
       " 'SP_0.60_0': ['SAMD1+UBASH3B', 'CDKN1A+CDKN1B'],\n",
       " 'SP_0.60_1': ['CEBPE+FOSB', 'CEBPA+KLF1', 'IRF1+SET'],\n",
       " 'SP_0.60_2': ['CNN1+ETS2', 'KLF1+MAP2K6', 'CEBPA+JUN', 'DLX2+ZBTB10'],\n",
       " 'SP_0.70_0': ['OSR2+UBASH3B', 'BPGM+SAMD1'],\n",
       " 'SP_0.70_1': ['MAP2K3+MAP2K6', 'BPGM+SAMD1'],\n",
       " 'SP_0.70_2': ['FEV+ISL2', 'KLF1+MAP2K6', 'FOXL2+POU3F2']}"
      ]
     },
     "execution_count": 13,
     "metadata": {},
     "output_type": "execute_result"
    }
   ],
   "execution_count": 13
  },
  {
   "metadata": {
    "ExecuteTime": {
     "end_time": "2024-10-01T15:41:40.514249Z",
     "start_time": "2024-10-01T15:41:40.511422Z"
    }
   },
   "cell_type": "code",
   "source": [
    "def filter_dict_by_list(input_dict, filter_list):\n",
    "    filtered_dict = {}\n",
    "    for key, values in input_dict.items():\n",
    "        filtered_values = [value for value in values if value in filter_list]\n",
    "        if filtered_values:\n",
    "            filtered_dict[key] = filtered_values\n",
    "    return filtered_dict"
   ],
   "id": "ba11b9f8e042319a",
   "outputs": [],
   "execution_count": 14
  },
  {
   "metadata": {
    "ExecuteTime": {
     "end_time": "2024-10-01T15:41:40.516351Z",
     "start_time": "2024-10-01T15:41:40.514865Z"
    }
   },
   "cell_type": "code",
   "source": [
    "# split_map_reduced = filter_dict_by_list(split_map_reduced, genes_to_keep)\n",
    "# split_map_reduced"
   ],
   "id": "cb6679848c7b73e6",
   "outputs": [],
   "execution_count": 15
  },
  {
   "metadata": {
    "ExecuteTime": {
     "end_time": "2024-09-04T16:22:23.863662Z",
     "start_time": "2024-09-04T16:22:23.858148Z"
    }
   },
   "cell_type": "code",
   "source": [
    "# save the pert_split_map dict to a pkl file to data \n",
    "with open('../../data/splits/perturb/norman_1/pert_split_map.pkl', 'wb') as f:\n",
    "    pkl.dump(split_map, f)"
   ],
   "id": "d42b1f43de5978a7",
   "outputs": [],
   "execution_count": 25
  },
  {
   "metadata": {
    "ExecuteTime": {
     "end_time": "2024-10-01T15:41:40.519185Z",
     "start_time": "2024-10-01T15:41:40.516933Z"
    }
   },
   "cell_type": "code",
   "source": [
    "pert_names = []\n",
    "for split in spectra_splits:\n",
    "    pert_name = all_perts_map[split]\n",
    "    pert_names.append(pert_name)\n",
    "pert_names"
   ],
   "id": "fed5fafd0d6c291f",
   "outputs": [
    {
     "data": {
      "text/plain": [
       "['FEV+ISL2', 'KLF1+MAP2K6', 'FOXL2+POU3F2']"
      ]
     },
     "execution_count": 16,
     "metadata": {},
     "output_type": "execute_result"
    }
   ],
   "execution_count": 16
  },
  {
   "metadata": {
    "ExecuteTime": {
     "end_time": "2024-10-01T15:41:40.521639Z",
     "start_time": "2024-10-01T15:41:40.519768Z"
    }
   },
   "cell_type": "code",
   "source": [
    "def update_yaml_config(file_path, new_eval_pert):\n",
    "    yaml = YAML()\n",
    "    yaml.preserve_quotes = True\n",
    "    yaml.indent(mapping=2, sequence=4, offset=2)\n",
    "\n",
    "    with open(file_path, 'r') as f:\n",
    "        config = yaml.load(f)\n",
    "\n",
    "    # Update the eval_pert value\n",
    "    config['data']['eval_pert'] = new_eval_pert\n",
    "\n",
    "    # Save the updated config\n",
    "    with open(file_path, 'w') as f:\n",
    "        yaml.dump(config, f)"
   ],
   "id": "f7976428210f6c74",
   "outputs": [],
   "execution_count": 17
  },
  {
   "metadata": {
    "ExecuteTime": {
     "end_time": "2024-10-01T15:41:40.529285Z",
     "start_time": "2024-10-01T15:41:40.522185Z"
    }
   },
   "cell_type": "code",
   "source": [
    "from ruamel.yaml import YAML \n",
    "\n",
    "base_config = '../../configs/experiment/mlp_norman_inference.yaml'\n",
    "yaml = YAML()\n",
    "yaml.preserve_quotes = True\n",
    "yaml.indent(mapping=2, sequence=4, offset=2)\n",
    "\n",
    "with open(base_config, 'r') as f:\n",
    "    config = yaml.load(f)\n",
    "config"
   ],
   "id": "1c1b21d75c7cae4d",
   "outputs": [
    {
     "data": {
      "text/plain": [
       "{'model_type': 'mlp', 'defaults': [{'override /model': 'mlp'}, {'override /logger': 'wandb'}], 'total_genes': 2064, 'emb_dim': 3072, 'hidden_dim': 1536, 'mean_adjusted': False, 'save_dir': '${paths.data_dir}/${data.data_name}/pert_effects/${data.eval_pert}/pert_effect_pred_${data.fm}.pkl', 'train_date': '2024-09-29', 'timestamp': '00-03-59', 'data': {'data_name': 'norman_2', 'data_type': 'scfoundation', 'deg_eval': True, 'eval_pert': 'AHR', 'split': 0.0, 'replicate': 0, 'fm': 'scfoundation'}, 'trainer': {'num_sanity_val_steps': 0, 'inference_mode': True, 'accelerator': 'gpu'}, 'ckpt_path': '${paths.log_dir}train/runs/${train_date}/${timestamp}/checkpoints/${callbacks.model_checkpoint.filename}.ckpt', 'logger': {'wandb': {'tags': ['eval', '${data.data_name}', '${data.eval_pert}', '${data.fm}', 'split_${data.split}', 'replicate_${data.replicate}'], 'group': 'test_mean_norman_${data.split}', 'project': 'perturbench-deg'}}}"
      ]
     },
     "execution_count": 18,
     "metadata": {},
     "output_type": "execute_result"
    }
   ],
   "execution_count": 18
  },
  {
   "metadata": {
    "ExecuteTime": {
     "end_time": "2024-10-01T15:47:28.488663Z",
     "start_time": "2024-10-01T15:47:28.099071Z"
    }
   },
   "cell_type": "code",
   "source": [
    "import os \n",
    "if not os.path.exists(f'../../configs/experiment/deg_evals/'):\n",
    "    os.makedirs(f'../../configs/experiment/deg_evals/')\n",
    "\n",
    "id = 1\n",
    "for i, (key, perts) in enumerate(split_map.items()):\n",
    "    split = float(key.split('_')[1])\n",
    "    replicate = int(key.split('_')[2])\n",
    "    config['data']['split'] = split\n",
    "    config['data']['replicate'] = replicate\n",
    "    for j, pert in enumerate(perts):\n",
    "        config['data']['eval_pert'] = pert\n",
    "        with open(f'../../configs/experiment/deg_evals/mlp_norman_inference_{id}.yaml', 'w') as f:\n",
    "            yaml.dump(config, f)\n",
    "        id += 1 "
   ],
   "id": "d5f8e7281cc8272a",
   "outputs": [],
   "execution_count": 19
  },
  {
   "metadata": {},
   "cell_type": "code",
   "outputs": [],
   "execution_count": null,
   "source": "",
   "id": "26b08cc96d9076ff"
  }
 ],
 "metadata": {
  "kernelspec": {
   "display_name": "Python 3",
   "language": "python",
   "name": "python3"
  },
  "language_info": {
   "codemirror_mode": {
    "name": "ipython",
    "version": 2
   },
   "file_extension": ".py",
   "mimetype": "text/x-python",
   "name": "python",
   "nbconvert_exporter": "python",
   "pygments_lexer": "ipython2",
   "version": "2.7.6"
  }
 },
 "nbformat": 4,
 "nbformat_minor": 5
}
