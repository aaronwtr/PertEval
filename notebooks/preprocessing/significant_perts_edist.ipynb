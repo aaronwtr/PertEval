{
 "nbformat": 4,
 "nbformat_minor": 0,
 "metadata": {
  "colab": {
   "provenance": []
  },
  "kernelspec": {
   "name": "python3",
   "display_name": "Python 3 (ipykernel)",
   "language": "python"
  },
  "language_info": {
   "name": "python"
  }
 },
 "cells": [
  {
   "metadata": {},
   "cell_type": "code",
   "outputs": [],
   "execution_count": null,
   "source": "# Author: Will Connell, A. Wenteler"
  },
  {
   "cell_type": "code",
   "source": [
    "!pip install scanpy\n",
    "!pip install scperturb\n",
    "!pip install scikit-misc"
   ],
   "metadata": {
    "colab": {
     "base_uri": "https://localhost:8080/"
    },
    "id": "HJ8YJlya5MFa",
    "outputId": "4e4ba291-3014-4cca-b609-e22678e2eedc",
    "ExecuteTime": {
     "end_time": "2024-07-18T10:16:20.093442Z",
     "start_time": "2024-07-18T10:16:14.668469Z"
    }
   },
   "outputs": [
    {
     "name": "stdout",
     "output_type": "stream",
     "text": [
      "Requirement already satisfied: scanpy in /Users/aaronw/Desktop/PhD/Research/QMUL/Research/scBench/venv/lib/python3.10/site-packages (1.10.0)\r\n",
      "Requirement already satisfied: anndata>=0.8 in /Users/aaronw/Desktop/PhD/Research/QMUL/Research/scBench/venv/lib/python3.10/site-packages (from scanpy) (0.10.6)\r\n",
      "Requirement already satisfied: h5py>=3.1 in /Users/aaronw/Desktop/PhD/Research/QMUL/Research/scBench/venv/lib/python3.10/site-packages (from scanpy) (3.10.0)\r\n",
      "Requirement already satisfied: joblib in /Users/aaronw/Desktop/PhD/Research/QMUL/Research/scBench/venv/lib/python3.10/site-packages (from scanpy) (1.3.2)\r\n",
      "Requirement already satisfied: legacy-api-wrap>=1.4 in /Users/aaronw/Desktop/PhD/Research/QMUL/Research/scBench/venv/lib/python3.10/site-packages (from scanpy) (1.4)\r\n",
      "Requirement already satisfied: matplotlib>=3.6 in /Users/aaronw/Desktop/PhD/Research/QMUL/Research/scBench/venv/lib/python3.10/site-packages (from scanpy) (3.8.3)\r\n",
      "Requirement already satisfied: natsort in /Users/aaronw/Desktop/PhD/Research/QMUL/Research/scBench/venv/lib/python3.10/site-packages (from scanpy) (8.4.0)\r\n",
      "Requirement already satisfied: networkx>=2.7 in /Users/aaronw/Desktop/PhD/Research/QMUL/Research/scBench/venv/lib/python3.10/site-packages (from scanpy) (3.2.1)\r\n",
      "Requirement already satisfied: numba>=0.56 in /Users/aaronw/Desktop/PhD/Research/QMUL/Research/scBench/venv/lib/python3.10/site-packages (from scanpy) (0.59.1)\r\n",
      "Requirement already satisfied: numpy>=1.23 in /Users/aaronw/Desktop/PhD/Research/QMUL/Research/scBench/venv/lib/python3.10/site-packages (from scanpy) (1.26.4)\r\n",
      "Requirement already satisfied: packaging>=21.3 in /Users/aaronw/Desktop/PhD/Research/QMUL/Research/scBench/venv/lib/python3.10/site-packages (from scanpy) (24.0)\r\n",
      "Requirement already satisfied: pandas>=1.5 in /Users/aaronw/Desktop/PhD/Research/QMUL/Research/scBench/venv/lib/python3.10/site-packages (from scanpy) (2.2.1)\r\n",
      "Requirement already satisfied: patsy in /Users/aaronw/Desktop/PhD/Research/QMUL/Research/scBench/venv/lib/python3.10/site-packages (from scanpy) (0.5.6)\r\n",
      "Requirement already satisfied: pynndescent>=0.5 in /Users/aaronw/Desktop/PhD/Research/QMUL/Research/scBench/venv/lib/python3.10/site-packages (from scanpy) (0.5.12)\r\n",
      "Requirement already satisfied: scikit-learn>=0.24 in /Users/aaronw/Desktop/PhD/Research/QMUL/Research/scBench/venv/lib/python3.10/site-packages (from scanpy) (1.4.1.post1)\r\n",
      "Requirement already satisfied: scipy>=1.8 in /Users/aaronw/Desktop/PhD/Research/QMUL/Research/scBench/venv/lib/python3.10/site-packages (from scanpy) (1.12.0)\r\n",
      "Requirement already satisfied: seaborn>=0.13 in /Users/aaronw/Desktop/PhD/Research/QMUL/Research/scBench/venv/lib/python3.10/site-packages (from scanpy) (0.13.2)\r\n",
      "Requirement already satisfied: session-info in /Users/aaronw/Desktop/PhD/Research/QMUL/Research/scBench/venv/lib/python3.10/site-packages (from scanpy) (1.0.0)\r\n",
      "Requirement already satisfied: statsmodels>=0.13 in /Users/aaronw/Desktop/PhD/Research/QMUL/Research/scBench/venv/lib/python3.10/site-packages (from scanpy) (0.14.1)\r\n",
      "Requirement already satisfied: tqdm in /Users/aaronw/Desktop/PhD/Research/QMUL/Research/scBench/venv/lib/python3.10/site-packages (from scanpy) (4.66.2)\r\n",
      "Requirement already satisfied: umap-learn!=0.5.0,>=0.5 in /Users/aaronw/Desktop/PhD/Research/QMUL/Research/scBench/venv/lib/python3.10/site-packages (from scanpy) (0.5.5)\r\n",
      "Requirement already satisfied: array-api-compat!=1.5,>1.4 in /Users/aaronw/Desktop/PhD/Research/QMUL/Research/scBench/venv/lib/python3.10/site-packages (from anndata>=0.8->scanpy) (1.6)\r\n",
      "Requirement already satisfied: exceptiongroup in /Users/aaronw/Desktop/PhD/Research/QMUL/Research/scBench/venv/lib/python3.10/site-packages (from anndata>=0.8->scanpy) (1.2.0)\r\n",
      "Requirement already satisfied: contourpy>=1.0.1 in /Users/aaronw/Desktop/PhD/Research/QMUL/Research/scBench/venv/lib/python3.10/site-packages (from matplotlib>=3.6->scanpy) (1.2.0)\r\n",
      "Requirement already satisfied: cycler>=0.10 in /Users/aaronw/Desktop/PhD/Research/QMUL/Research/scBench/venv/lib/python3.10/site-packages (from matplotlib>=3.6->scanpy) (0.12.1)\r\n",
      "Requirement already satisfied: fonttools>=4.22.0 in /Users/aaronw/Desktop/PhD/Research/QMUL/Research/scBench/venv/lib/python3.10/site-packages (from matplotlib>=3.6->scanpy) (4.50.0)\r\n",
      "Requirement already satisfied: kiwisolver>=1.3.1 in /Users/aaronw/Desktop/PhD/Research/QMUL/Research/scBench/venv/lib/python3.10/site-packages (from matplotlib>=3.6->scanpy) (1.4.5)\r\n",
      "Requirement already satisfied: pillow>=8 in /Users/aaronw/Desktop/PhD/Research/QMUL/Research/scBench/venv/lib/python3.10/site-packages (from matplotlib>=3.6->scanpy) (10.2.0)\r\n",
      "Requirement already satisfied: pyparsing>=2.3.1 in /Users/aaronw/Desktop/PhD/Research/QMUL/Research/scBench/venv/lib/python3.10/site-packages (from matplotlib>=3.6->scanpy) (3.1.2)\r\n",
      "Requirement already satisfied: python-dateutil>=2.7 in /Users/aaronw/Desktop/PhD/Research/QMUL/Research/scBench/venv/lib/python3.10/site-packages (from matplotlib>=3.6->scanpy) (2.9.0.post0)\r\n",
      "Requirement already satisfied: llvmlite<0.43,>=0.42.0dev0 in /Users/aaronw/Desktop/PhD/Research/QMUL/Research/scBench/venv/lib/python3.10/site-packages (from numba>=0.56->scanpy) (0.42.0)\r\n",
      "Requirement already satisfied: pytz>=2020.1 in /Users/aaronw/Desktop/PhD/Research/QMUL/Research/scBench/venv/lib/python3.10/site-packages (from pandas>=1.5->scanpy) (2024.1)\r\n",
      "Requirement already satisfied: tzdata>=2022.7 in /Users/aaronw/Desktop/PhD/Research/QMUL/Research/scBench/venv/lib/python3.10/site-packages (from pandas>=1.5->scanpy) (2024.1)\r\n",
      "Requirement already satisfied: threadpoolctl>=2.0.0 in /Users/aaronw/Desktop/PhD/Research/QMUL/Research/scBench/venv/lib/python3.10/site-packages (from scikit-learn>=0.24->scanpy) (3.4.0)\r\n",
      "Requirement already satisfied: six in /Users/aaronw/Desktop/PhD/Research/QMUL/Research/scBench/venv/lib/python3.10/site-packages (from patsy->scanpy) (1.16.0)\r\n",
      "Requirement already satisfied: stdlib-list in /Users/aaronw/Desktop/PhD/Research/QMUL/Research/scBench/venv/lib/python3.10/site-packages (from session-info->scanpy) (0.10.0)\r\n",
      "\r\n",
      "\u001B[1m[\u001B[0m\u001B[34;49mnotice\u001B[0m\u001B[1;39;49m]\u001B[0m\u001B[39;49m A new release of pip is available: \u001B[0m\u001B[31;49m23.2.1\u001B[0m\u001B[39;49m -> \u001B[0m\u001B[32;49m24.1.2\u001B[0m\r\n",
      "\u001B[1m[\u001B[0m\u001B[34;49mnotice\u001B[0m\u001B[1;39;49m]\u001B[0m\u001B[39;49m To update, run: \u001B[0m\u001B[32;49mpip install --upgrade pip\u001B[0m\r\n",
      "Collecting scperturb\r\n",
      "  Obtaining dependency information for scperturb from https://files.pythonhosted.org/packages/0b/96/1f1cdce4b007c24cb7171cf368ced8f1e6723f7132bf0e3afb43cee5858d/scperturb-0.1.0-py3-none-any.whl.metadata\r\n",
      "  Downloading scperturb-0.1.0-py3-none-any.whl.metadata (1.5 kB)\r\n",
      "Requirement already satisfied: pandas>=1.1 in /Users/aaronw/Desktop/PhD/Research/QMUL/Research/scBench/venv/lib/python3.10/site-packages (from scperturb) (2.2.1)\r\n",
      "Requirement already satisfied: scanpy>=1.7 in /Users/aaronw/Desktop/PhD/Research/QMUL/Research/scBench/venv/lib/python3.10/site-packages (from scperturb) (1.10.0)\r\n",
      "Requirement already satisfied: tqdm>=4.62 in /Users/aaronw/Desktop/PhD/Research/QMUL/Research/scBench/venv/lib/python3.10/site-packages (from scperturb) (4.66.2)\r\n",
      "Requirement already satisfied: numpy in /Users/aaronw/Desktop/PhD/Research/QMUL/Research/scBench/venv/lib/python3.10/site-packages (from scperturb) (1.26.4)\r\n",
      "Requirement already satisfied: scipy in /Users/aaronw/Desktop/PhD/Research/QMUL/Research/scBench/venv/lib/python3.10/site-packages (from scperturb) (1.12.0)\r\n",
      "Requirement already satisfied: scikit-learn in /Users/aaronw/Desktop/PhD/Research/QMUL/Research/scBench/venv/lib/python3.10/site-packages (from scperturb) (1.4.1.post1)\r\n",
      "Requirement already satisfied: statsmodels in /Users/aaronw/Desktop/PhD/Research/QMUL/Research/scBench/venv/lib/python3.10/site-packages (from scperturb) (0.14.1)\r\n",
      "Requirement already satisfied: python-dateutil>=2.8.2 in /Users/aaronw/Desktop/PhD/Research/QMUL/Research/scBench/venv/lib/python3.10/site-packages (from pandas>=1.1->scperturb) (2.9.0.post0)\r\n",
      "Requirement already satisfied: pytz>=2020.1 in /Users/aaronw/Desktop/PhD/Research/QMUL/Research/scBench/venv/lib/python3.10/site-packages (from pandas>=1.1->scperturb) (2024.1)\r\n",
      "Requirement already satisfied: tzdata>=2022.7 in /Users/aaronw/Desktop/PhD/Research/QMUL/Research/scBench/venv/lib/python3.10/site-packages (from pandas>=1.1->scperturb) (2024.1)\r\n",
      "Requirement already satisfied: anndata>=0.8 in /Users/aaronw/Desktop/PhD/Research/QMUL/Research/scBench/venv/lib/python3.10/site-packages (from scanpy>=1.7->scperturb) (0.10.6)\r\n",
      "Requirement already satisfied: h5py>=3.1 in /Users/aaronw/Desktop/PhD/Research/QMUL/Research/scBench/venv/lib/python3.10/site-packages (from scanpy>=1.7->scperturb) (3.10.0)\r\n",
      "Requirement already satisfied: joblib in /Users/aaronw/Desktop/PhD/Research/QMUL/Research/scBench/venv/lib/python3.10/site-packages (from scanpy>=1.7->scperturb) (1.3.2)\r\n",
      "Requirement already satisfied: legacy-api-wrap>=1.4 in /Users/aaronw/Desktop/PhD/Research/QMUL/Research/scBench/venv/lib/python3.10/site-packages (from scanpy>=1.7->scperturb) (1.4)\r\n",
      "Requirement already satisfied: matplotlib>=3.6 in /Users/aaronw/Desktop/PhD/Research/QMUL/Research/scBench/venv/lib/python3.10/site-packages (from scanpy>=1.7->scperturb) (3.8.3)\r\n",
      "Requirement already satisfied: natsort in /Users/aaronw/Desktop/PhD/Research/QMUL/Research/scBench/venv/lib/python3.10/site-packages (from scanpy>=1.7->scperturb) (8.4.0)\r\n",
      "Requirement already satisfied: networkx>=2.7 in /Users/aaronw/Desktop/PhD/Research/QMUL/Research/scBench/venv/lib/python3.10/site-packages (from scanpy>=1.7->scperturb) (3.2.1)\r\n",
      "Requirement already satisfied: numba>=0.56 in /Users/aaronw/Desktop/PhD/Research/QMUL/Research/scBench/venv/lib/python3.10/site-packages (from scanpy>=1.7->scperturb) (0.59.1)\r\n",
      "Requirement already satisfied: packaging>=21.3 in /Users/aaronw/Desktop/PhD/Research/QMUL/Research/scBench/venv/lib/python3.10/site-packages (from scanpy>=1.7->scperturb) (24.0)\r\n",
      "Requirement already satisfied: patsy in /Users/aaronw/Desktop/PhD/Research/QMUL/Research/scBench/venv/lib/python3.10/site-packages (from scanpy>=1.7->scperturb) (0.5.6)\r\n",
      "Requirement already satisfied: pynndescent>=0.5 in /Users/aaronw/Desktop/PhD/Research/QMUL/Research/scBench/venv/lib/python3.10/site-packages (from scanpy>=1.7->scperturb) (0.5.12)\r\n",
      "Requirement already satisfied: seaborn>=0.13 in /Users/aaronw/Desktop/PhD/Research/QMUL/Research/scBench/venv/lib/python3.10/site-packages (from scanpy>=1.7->scperturb) (0.13.2)\r\n",
      "Requirement already satisfied: session-info in /Users/aaronw/Desktop/PhD/Research/QMUL/Research/scBench/venv/lib/python3.10/site-packages (from scanpy>=1.7->scperturb) (1.0.0)\r\n",
      "Requirement already satisfied: umap-learn!=0.5.0,>=0.5 in /Users/aaronw/Desktop/PhD/Research/QMUL/Research/scBench/venv/lib/python3.10/site-packages (from scanpy>=1.7->scperturb) (0.5.5)\r\n",
      "Requirement already satisfied: threadpoolctl>=2.0.0 in /Users/aaronw/Desktop/PhD/Research/QMUL/Research/scBench/venv/lib/python3.10/site-packages (from scikit-learn->scperturb) (3.4.0)\r\n",
      "Requirement already satisfied: array-api-compat!=1.5,>1.4 in /Users/aaronw/Desktop/PhD/Research/QMUL/Research/scBench/venv/lib/python3.10/site-packages (from anndata>=0.8->scanpy>=1.7->scperturb) (1.6)\r\n",
      "Requirement already satisfied: exceptiongroup in /Users/aaronw/Desktop/PhD/Research/QMUL/Research/scBench/venv/lib/python3.10/site-packages (from anndata>=0.8->scanpy>=1.7->scperturb) (1.2.0)\r\n",
      "Requirement already satisfied: contourpy>=1.0.1 in /Users/aaronw/Desktop/PhD/Research/QMUL/Research/scBench/venv/lib/python3.10/site-packages (from matplotlib>=3.6->scanpy>=1.7->scperturb) (1.2.0)\r\n",
      "Requirement already satisfied: cycler>=0.10 in /Users/aaronw/Desktop/PhD/Research/QMUL/Research/scBench/venv/lib/python3.10/site-packages (from matplotlib>=3.6->scanpy>=1.7->scperturb) (0.12.1)\r\n",
      "Requirement already satisfied: fonttools>=4.22.0 in /Users/aaronw/Desktop/PhD/Research/QMUL/Research/scBench/venv/lib/python3.10/site-packages (from matplotlib>=3.6->scanpy>=1.7->scperturb) (4.50.0)\r\n",
      "Requirement already satisfied: kiwisolver>=1.3.1 in /Users/aaronw/Desktop/PhD/Research/QMUL/Research/scBench/venv/lib/python3.10/site-packages (from matplotlib>=3.6->scanpy>=1.7->scperturb) (1.4.5)\r\n",
      "Requirement already satisfied: pillow>=8 in /Users/aaronw/Desktop/PhD/Research/QMUL/Research/scBench/venv/lib/python3.10/site-packages (from matplotlib>=3.6->scanpy>=1.7->scperturb) (10.2.0)\r\n",
      "Requirement already satisfied: pyparsing>=2.3.1 in /Users/aaronw/Desktop/PhD/Research/QMUL/Research/scBench/venv/lib/python3.10/site-packages (from matplotlib>=3.6->scanpy>=1.7->scperturb) (3.1.2)\r\n",
      "Requirement already satisfied: llvmlite<0.43,>=0.42.0dev0 in /Users/aaronw/Desktop/PhD/Research/QMUL/Research/scBench/venv/lib/python3.10/site-packages (from numba>=0.56->scanpy>=1.7->scperturb) (0.42.0)\r\n",
      "Requirement already satisfied: six in /Users/aaronw/Desktop/PhD/Research/QMUL/Research/scBench/venv/lib/python3.10/site-packages (from patsy->scanpy>=1.7->scperturb) (1.16.0)\r\n",
      "Requirement already satisfied: stdlib-list in /Users/aaronw/Desktop/PhD/Research/QMUL/Research/scBench/venv/lib/python3.10/site-packages (from session-info->scanpy>=1.7->scperturb) (0.10.0)\r\n",
      "Downloading scperturb-0.1.0-py3-none-any.whl (8.5 kB)\r\n",
      "Installing collected packages: scperturb\r\n",
      "Successfully installed scperturb-0.1.0\r\n",
      "\r\n",
      "\u001B[1m[\u001B[0m\u001B[34;49mnotice\u001B[0m\u001B[1;39;49m]\u001B[0m\u001B[39;49m A new release of pip is available: \u001B[0m\u001B[31;49m23.2.1\u001B[0m\u001B[39;49m -> \u001B[0m\u001B[32;49m24.1.2\u001B[0m\r\n",
      "\u001B[1m[\u001B[0m\u001B[34;49mnotice\u001B[0m\u001B[1;39;49m]\u001B[0m\u001B[39;49m To update, run: \u001B[0m\u001B[32;49mpip install --upgrade pip\u001B[0m\r\n",
      "Requirement already satisfied: scikit-misc in /Users/aaronw/Desktop/PhD/Research/QMUL/Research/scBench/venv/lib/python3.10/site-packages (0.3.1)\r\n",
      "Requirement already satisfied: numpy>=1.22.3 in /Users/aaronw/Desktop/PhD/Research/QMUL/Research/scBench/venv/lib/python3.10/site-packages (from scikit-misc) (1.26.4)\r\n",
      "\r\n",
      "\u001B[1m[\u001B[0m\u001B[34;49mnotice\u001B[0m\u001B[1;39;49m]\u001B[0m\u001B[39;49m A new release of pip is available: \u001B[0m\u001B[31;49m23.2.1\u001B[0m\u001B[39;49m -> \u001B[0m\u001B[32;49m24.1.2\u001B[0m\r\n",
      "\u001B[1m[\u001B[0m\u001B[34;49mnotice\u001B[0m\u001B[1;39;49m]\u001B[0m\u001B[39;49m To update, run: \u001B[0m\u001B[32;49mpip install --upgrade pip\u001B[0m\r\n"
     ]
    }
   ],
   "execution_count": 1
  },
  {
   "cell_type": "code",
   "source": [
    "# datastes here: http://projects.sanderlab.org/scperturb/datavzrd/scPerturb_vzrd_v1/dataset_info/index_1.html\n",
    "\n",
    "!wget https://zenodo.org/record/7041849/files/NormanWeissman2019_filtered.h5ad"
   ],
   "metadata": {
    "colab": {
     "base_uri": "https://localhost:8080/"
    },
    "id": "cjOp3K2h5XzM",
    "outputId": "a89b6756-59c9-4a33-8dba-adb57c3812ec",
    "ExecuteTime": {
     "end_time": "2024-07-18T10:20:42.901716Z",
     "start_time": "2024-07-18T10:20:42.784662Z"
    }
   },
   "outputs": [
    {
     "name": "stdout",
     "output_type": "stream",
     "text": [
      "zsh:1: command not found: wget\r\n"
     ]
    }
   ],
   "execution_count": 1
  },
  {
   "cell_type": "code",
   "metadata": {
    "id": "V73VgLBL48ZT",
    "ExecuteTime": {
     "end_time": "2024-09-30T19:55:10.373896Z",
     "start_time": "2024-09-30T19:55:09.184361Z"
    }
   },
   "source": [
    "import scanpy as sc\n",
    "import anndata as ad\n",
    "from scipy.sparse import csr_matrix\n",
    "\n",
    "from scperturb import *\n",
    "\n",
    "import scanpy as sc\n",
    "import numpy as np\n",
    "import pandas as pd\n",
    "import mpl_sizes\n",
    "\n",
    "formatter = mpl_sizes.get_format(\"NeurIPS\") # options: ICLR, ICML, NeurIPS, InfThesis"
   ],
   "outputs": [],
   "execution_count": 5
  },
  {
   "cell_type": "code",
   "source": [
    "'''\n",
    "See here: https://github.com/sanderlab/scPerturb/blob/f64821e5e621b3f6147b47f318ae1775d4eff324/revision/snakemake/Snakefile#L177-L215\n",
    "'''\n",
    "\n",
    "def equal_subsampling(adata, obs_key, N_min=None):\n",
    "    '''\n",
    "    Subsample to same class sizes. Classes given by obs_key pointing to categorical in adata.obs.\n",
    "    If N_min is given, downsamples to at least this number instead of the number of cells in the smallest class\n",
    "    and throws out classes with less than N_min cells.\n",
    "    '''\n",
    "    counts = adata.obs[obs_key].value_counts()\n",
    "    groups = counts.index[counts >= N_min]  # ignore groups with less than N_min cells to begin with\n",
    "\n",
    "    if len(groups) == 0:\n",
    "        raise ValueError(f\"No groups have at least {N_min} cells.\")\n",
    "\n",
    "    # We select downsampling target counts by min-max, i.e.\n",
    "    # the largest N such that every group has at least N cells before downsampling.\n",
    "    N = np.min(counts[groups])\n",
    "    N = max(N, N_min) if N_min else N\n",
    "\n",
    "    # subsample indices per group\n",
    "    indices = [\n",
    "        np.random.choice(\n",
    "            adata.obs_names[adata.obs[obs_key] == group], size=N, replace=False\n",
    "        )\n",
    "        for group in groups\n",
    "    ]\n",
    "    selection = np.hstack(np.array(indices))\n",
    "    return adata[selection].copy()"
   ],
   "metadata": {
    "colab": {
     "base_uri": "https://localhost:8080/"
    },
    "id": "Kec7xKA65IFK",
    "outputId": "993bb731-2dc1-4f72-d850-dfe488905909",
    "ExecuteTime": {
     "end_time": "2024-09-30T19:55:16.763960Z",
     "start_time": "2024-09-30T19:55:16.758794Z"
    }
   },
   "outputs": [],
   "execution_count": 6
  },
  {
   "metadata": {
    "ExecuteTime": {
     "end_time": "2024-09-30T19:55:40.423872Z",
     "start_time": "2024-09-30T19:55:18.311283Z"
    }
   },
   "cell_type": "code",
   "source": [
    "# Load your anndata object\n",
    "adata = sc.read_h5ad(\"../data/norman_2019_raw.h5ad\")"
   ],
   "outputs": [],
   "execution_count": 7
  },
  {
   "metadata": {
    "ExecuteTime": {
     "end_time": "2024-09-30T19:55:40.428095Z",
     "start_time": "2024-09-30T19:55:40.424871Z"
    }
   },
   "cell_type": "code",
   "source": "adata",
   "outputs": [
    {
     "data": {
      "text/plain": [
       "AnnData object with n_obs × n_vars = 111445 × 33694\n",
       "    obs: 'guide_identity', 'read_count', 'UMI_count', 'coverage', 'gemgroup', 'good_coverage', 'number_of_cells', 'guide_AHR', 'guide_ARID1A', 'guide_ARRDC3', 'guide_ATL1', 'guide_BAK1', 'guide_BCL2L11', 'guide_BCORL1', 'guide_BPGM', 'guide_C19orf26', 'guide_C3orf72', 'guide_CBFA2T3', 'guide_CBL', 'guide_CDKN1A', 'guide_CDKN1B', 'guide_CDKN1C', 'guide_CEBPA', 'guide_CEBPB', 'guide_CEBPE', 'guide_CELF2', 'guide_CITED1', 'guide_CKS1B', 'guide_CLDN6', 'guide_CNN1', 'guide_CNNM4', 'guide_COL1A1', 'guide_COL2A1', 'guide_CSRNP1', 'guide_DLX2', 'guide_DUSP9', 'guide_EGR1', 'guide_ELMSAN1', 'guide_ETS2', 'guide_FEV', 'guide_FOSB', 'guide_FOXA1', 'guide_FOXA3', 'guide_FOXF1', 'guide_FOXL2', 'guide_FOXO4', 'guide_GLB1L2', 'guide_HES7', 'guide_HK2', 'guide_HNF4A', 'guide_HOXA13', 'guide_HOXB9', 'guide_HOXC13', 'guide_IER5L', 'guide_IGDCC3', 'guide_IKZF3', 'guide_IRF1', 'guide_ISL2', 'guide_JUN', 'guide_KIAA1804', 'guide_KIF18B', 'guide_KIF2C', 'guide_KLF1', 'guide_KMT2A', 'guide_LHX1', 'guide_LYL1', 'guide_MAML2', 'guide_MAP2K3', 'guide_MAP2K6', 'guide_MAP4K3', 'guide_MAP4K5', 'guide_MAP7D1', 'guide_MAPK1', 'guide_MEIS1', 'guide_MIDN', 'guide_NCL', 'guide_NIT1', 'guide_OSR2', 'guide_PLK4', 'guide_POU3F2', 'guide_PRDM1', 'guide_PRTG', 'guide_PTPN1', 'guide_PTPN12', 'guide_PTPN13', 'guide_PTPN9', 'guide_RHOXF2', 'guide_RREB1', 'guide_RUNX1T1', 'guide_S1PR2', 'guide_SAMD1', 'guide_SET', 'guide_SGK1', 'guide_SLC38A2', 'guide_SLC4A1', 'guide_SLC6A9', 'guide_SNAI1', 'guide_SPI1', 'guide_STIL', 'guide_TBX2', 'guide_TBX3', 'guide_TGFBR2', 'guide_TMSB4X', 'guide_TP73', 'guide_TSC22D1', 'guide_UBASH3A', 'guide_UBASH3B', 'guide_ZBTB1', 'guide_ZBTB10', 'guide_ZBTB25', 'guide_ZC3HAV1', 'guide_ZNF318', 'guide_ids'\n",
       "    var: 'gene_symbols'"
      ]
     },
     "execution_count": 8,
     "metadata": {},
     "output_type": "execute_result"
    }
   ],
   "execution_count": 8
  },
  {
   "metadata": {
    "ExecuteTime": {
     "end_time": "2024-09-30T19:55:40.432732Z",
     "start_time": "2024-09-30T19:55:40.428818Z"
    }
   },
   "cell_type": "code",
   "source": [
    "# rename 'guide_ids' to 'perturbation'\n",
    "adata.obs['perturbation'] = adata.obs['guide_ids']\n",
    "total_unique_perts = adata.obs['perturbation'].nunique()\n",
    "total_unique_perts"
   ],
   "outputs": [
    {
     "data": {
      "text/plain": [
       "237"
      ]
     },
     "execution_count": 9,
     "metadata": {},
     "output_type": "execute_result"
    }
   ],
   "execution_count": 9
  },
  {
   "metadata": {
    "ExecuteTime": {
     "end_time": "2024-09-30T19:55:40.481625Z",
     "start_time": "2024-09-30T19:55:40.434532Z"
    }
   },
   "cell_type": "code",
   "source": [
    "# filter all the 'perturbation's that contain '_' from the a data object\n",
    "if 'norman_1':\n",
    "    adata = adata[~adata.obs['perturbation'].str.contains('_')]\n",
    "    total_single_gene_perts = adata.obs['perturbation'].nunique()\n",
    "    print(\"Number of single gene perturbations: \", total_single_gene_perts - 1)\n",
    "else:\n",
    "    print(\"Working with two-gene perturbations\")"
   ],
   "outputs": [
    {
     "name": "stdout",
     "output_type": "stream",
     "text": [
      "Number of single gene perturbations:  236\n"
     ]
    }
   ],
   "execution_count": 10
  },
  {
   "metadata": {
    "ExecuteTime": {
     "end_time": "2024-09-30T19:56:41.109705Z",
     "start_time": "2024-09-30T19:55:40.482248Z"
    }
   },
   "cell_type": "code",
   "source": [
    "# Basic QC and preprocessing\n",
    "print('Shape before filtering: ', adata.shape)\n",
    "sc.pp.filter_cells(adata, min_counts=1000)\n",
    "print('Number of perturbations: ', adata.obs['perturbation'].nunique())\n",
    "\n",
    "# Apply equal subsampling\n",
    "# adata = equal_subsampling(adata, 'perturbation', N_min=300)\n",
    "print('Number of perturbations after subsampling: ', adata.obs['perturbation'].nunique())\n",
    "\n",
    "adata.layers['counts'] = adata.X.copy()\n",
    "print('Normalizing counts...')\n",
    "sc.pp.normalize_per_cell(adata)\n",
    "sc.pp.filter_genes(adata, min_cells=50)\n",
    "print('Applying log1p...')\n",
    "sc.pp.log1p(adata)\n",
    "print('Shape after filtering: ', adata.shape)\n",
    "\n",
    "# Select HVGs\n",
    "print('Selecting highly variable genes...')\n",
    "sc.pp.highly_variable_genes(adata, n_top_genes=2000,\n",
    "                            subset=False, flavor='seurat_v3', layer='counts')\n",
    "print('Number of perturbations after selecting HVGs: ', adata.obs['perturbation'].nunique())\n",
    "\n",
    "print('Running PCA...')\n",
    "sc.pp.pca(adata, use_highly_variable=True, n_comps=50)\n",
    "\n",
    "# Save the filtered and processed anndata object\n",
    "# adata.write_h5ad('filtered_anndata.h5ad')\n",
    "\n",
    "# Display the final number of cells per perturbation\n",
    "cell_counts = adata.obs['perturbation'].value_counts()\n",
    "# change the ',' in perturbation to a '+'\n",
    "adata.obs['perturbation'] = adata.obs['perturbation'].str.replace(',', '+')\n",
    "adata = adata[:, adata.var.highly_variable]\n",
    "print(cell_counts)"
   ],
   "outputs": [
    {
     "name": "stdout",
     "output_type": "stream",
     "text": [
      "Shape before filtering:  (111445, 33694)\n"
     ]
    },
    {
     "name": "stderr",
     "output_type": "stream",
     "text": [
      "/Users/aaronw/Desktop/PhD/Research/QMUL/Research/scBench/venv/lib/python3.10/site-packages/scanpy/preprocessing/_simple.py:161: ImplicitModificationWarning: Trying to modify attribute `.obs` of view, initializing view as actual.\n",
      "  adata.obs[\"n_counts\"] = number\n"
     ]
    },
    {
     "name": "stdout",
     "output_type": "stream",
     "text": [
      "Number of perturbations:  237\n",
      "Number of perturbations after subsampling:  237\n",
      "Normalizing counts...\n",
      "Applying log1p...\n",
      "Shape after filtering:  (111445, 17414)\n",
      "Selecting highly variable genes...\n",
      "Number of perturbations after selecting HVGs:  237\n",
      "Running PCA...\n"
     ]
    },
    {
     "name": "stderr",
     "output_type": "stream",
     "text": [
      "/Users/aaronw/Desktop/PhD/Research/QMUL/Research/scBench/venv/lib/python3.10/site-packages/scanpy/preprocessing/_pca.py:374: FutureWarning: Argument `use_highly_variable` is deprecated, consider using the mask argument. Use_highly_variable=True can be called through mask_var=\"highly_variable\". Use_highly_variable=False can be called through mask_var=None\n",
      "  warn(msg, FutureWarning)\n"
     ]
    },
    {
     "name": "stdout",
     "output_type": "stream",
     "text": [
      "perturbation\n",
      "                 11855\n",
      "KLF1              1960\n",
      "BAK1              1457\n",
      "CEBPE             1233\n",
      "CEBPE,RUNX1T1     1219\n",
      "                 ...  \n",
      "CBL,UBASH3A         64\n",
      "CEBPA,CEBPB         64\n",
      "CEBPB,JUN           59\n",
      "C3orf72,FOXL2       59\n",
      "CEBPA,JUN           54\n",
      "Name: count, Length: 237, dtype: int64\n"
     ]
    }
   ],
   "execution_count": 11
  },
  {
   "cell_type": "code",
   "source": [
    "df = etest(adata, runs=10000, n_jobs=-1)\n",
    "\n",
    "print(df.shape)\n",
    "df['significant_adj'].sum() / len(df)\n",
    "# save the df results\n",
    "# remove ctrl from the df\n",
    "print(df.shape)\n",
    "df = df[df['perturbation'] != 'ctrl']\n",
    "print(df.shape)"
   ],
   "metadata": {
    "colab": {
     "base_uri": "https://localhost:8080/"
    },
    "id": "mH4nnSMN6Ch_",
    "outputId": "99c6027d-475c-498f-886e-e1ae1d7c1dfa",
    "jupyter": {
     "is_executing": true
    },
    "ExecuteTime": {
     "start_time": "2024-09-30T19:56:41.113440Z"
    }
   },
   "outputs": [
    {
     "name": "stderr",
     "output_type": "stream",
     "text": [
      "  0%|          | 0/10000 [00:00<?, ?it/s]/Users/aaronw/Desktop/PhD/Research/QMUL/Research/scBench/venv/lib/python3.10/site-packages/scperturb/etest.py:96: RuntimeWarning: invalid value encountered in scalar divide\n",
      "  delta = np.sum(sc_pwd[idx, :][:, ~idx]) / (N * M)\n",
      "/Users/aaronw/Desktop/PhD/Research/QMUL/Research/scBench/venv/lib/python3.10/site-packages/scperturb/etest.py:96: RuntimeWarning: invalid value encountered in scalar divide\n",
      "  delta = np.sum(sc_pwd[idx, :][:, ~idx]) / (N * M)\n",
      "/Users/aaronw/Desktop/PhD/Research/QMUL/Research/scBench/venv/lib/python3.10/site-packages/scperturb/etest.py:96: RuntimeWarning: invalid value encountered in scalar divide\n",
      "  delta = np.sum(sc_pwd[idx, :][:, ~idx]) / (N * M)\n",
      "/Users/aaronw/Desktop/PhD/Research/QMUL/Research/scBench/venv/lib/python3.10/site-packages/scperturb/etest.py:96: RuntimeWarning: invalid value encountered in scalar divide\n",
      "  delta = np.sum(sc_pwd[idx, :][:, ~idx]) / (N * M)\n",
      "/Users/aaronw/Desktop/PhD/Research/QMUL/Research/scBench/venv/lib/python3.10/site-packages/scperturb/etest.py:96: RuntimeWarning: invalid value encountered in scalar divide\n",
      "  delta = np.sum(sc_pwd[idx, :][:, ~idx]) / (N * M)\n",
      "/Users/aaronw/Desktop/PhD/Research/QMUL/Research/scBench/venv/lib/python3.10/site-packages/scperturb/etest.py:96: RuntimeWarning: invalid value encountered in scalar divide\n",
      "  delta = np.sum(sc_pwd[idx, :][:, ~idx]) / (N * M)\n",
      "/Users/aaronw/Desktop/PhD/Research/QMUL/Research/scBench/venv/lib/python3.10/site-packages/scperturb/etest.py:96: RuntimeWarning: invalid value encountered in scalar divide\n",
      "  delta = np.sum(sc_pwd[idx, :][:, ~idx]) / (N * M)\n",
      "/Users/aaronw/Desktop/PhD/Research/QMUL/Research/scBench/venv/lib/python3.10/site-packages/scperturb/etest.py:96: RuntimeWarning: invalid value encountered in scalar divide\n",
      "  delta = np.sum(sc_pwd[idx, :][:, ~idx]) / (N * M)\n"
     ]
    }
   ],
   "execution_count": null
  },
  {
   "metadata": {},
   "cell_type": "code",
   "outputs": [],
   "execution_count": null,
   "source": "df.to_csv('etest_results_all_perts.csv')"
  },
  {
   "cell_type": "code",
   "source": [
    "df.head()"
   ],
   "metadata": {
    "colab": {
     "base_uri": "https://localhost:8080/"
    },
    "id": "inoUq2y16K-s",
    "outputId": "7f3f8849-ad6c-425a-a697-23f18cbc6913"
   },
   "execution_count": null,
   "outputs": [
    {
     "output_type": "stream",
     "name": "stdout",
     "text": [
      "(153, 5)\n"
     ]
    },
    {
     "output_type": "execute_result",
     "data": {
      "text/plain": [
       "              edist  pvalue  significant  pvalue_adj  significant_adj\n",
       "AHR       21.986925  0.0001         True    0.015184             True\n",
       "AHR_KLF1  35.566693  0.0001         True    0.015184             True\n",
       "ARRDC3     6.685922  0.0001         True    0.015184             True\n",
       "ATL1      57.990839  0.0001         True    0.015184             True\n",
       "BAK1       0.725031  0.0282         True    0.082237            False"
      ],
      "text/html": [
       "\n",
       "  <div id=\"df-49d0f958-7d17-4089-b3bb-3baebd3724d4\" class=\"colab-df-container\">\n",
       "    <div>\n",
       "<style scoped>\n",
       "    .dataframe tbody tr th:only-of-type {\n",
       "        vertical-align: middle;\n",
       "    }\n",
       "\n",
       "    .dataframe tbody tr th {\n",
       "        vertical-align: top;\n",
       "    }\n",
       "\n",
       "    .dataframe thead th {\n",
       "        text-align: right;\n",
       "    }\n",
       "</style>\n",
       "<table border=\"1\" class=\"dataframe\">\n",
       "  <thead>\n",
       "    <tr style=\"text-align: right;\">\n",
       "      <th></th>\n",
       "      <th>edist</th>\n",
       "      <th>pvalue</th>\n",
       "      <th>significant</th>\n",
       "      <th>pvalue_adj</th>\n",
       "      <th>significant_adj</th>\n",
       "    </tr>\n",
       "  </thead>\n",
       "  <tbody>\n",
       "    <tr>\n",
       "      <th>AHR</th>\n",
       "      <td>21.986925</td>\n",
       "      <td>0.0001</td>\n",
       "      <td>True</td>\n",
       "      <td>0.015184</td>\n",
       "      <td>True</td>\n",
       "    </tr>\n",
       "    <tr>\n",
       "      <th>AHR_KLF1</th>\n",
       "      <td>35.566693</td>\n",
       "      <td>0.0001</td>\n",
       "      <td>True</td>\n",
       "      <td>0.015184</td>\n",
       "      <td>True</td>\n",
       "    </tr>\n",
       "    <tr>\n",
       "      <th>ARRDC3</th>\n",
       "      <td>6.685922</td>\n",
       "      <td>0.0001</td>\n",
       "      <td>True</td>\n",
       "      <td>0.015184</td>\n",
       "      <td>True</td>\n",
       "    </tr>\n",
       "    <tr>\n",
       "      <th>ATL1</th>\n",
       "      <td>57.990839</td>\n",
       "      <td>0.0001</td>\n",
       "      <td>True</td>\n",
       "      <td>0.015184</td>\n",
       "      <td>True</td>\n",
       "    </tr>\n",
       "    <tr>\n",
       "      <th>BAK1</th>\n",
       "      <td>0.725031</td>\n",
       "      <td>0.0282</td>\n",
       "      <td>True</td>\n",
       "      <td>0.082237</td>\n",
       "      <td>False</td>\n",
       "    </tr>\n",
       "  </tbody>\n",
       "</table>\n",
       "</div>\n",
       "    <div class=\"colab-df-buttons\">\n",
       "\n",
       "  <div class=\"colab-df-container\">\n",
       "    <button class=\"colab-df-convert\" onclick=\"convertToInteractive('df-49d0f958-7d17-4089-b3bb-3baebd3724d4')\"\n",
       "            title=\"Convert this dataframe to an interactive table.\"\n",
       "            style=\"display:none;\">\n",
       "\n",
       "  <svg xmlns=\"http://www.w3.org/2000/svg\" height=\"24px\" viewBox=\"0 -960 960 960\">\n",
       "    <path d=\"M120-120v-720h720v720H120Zm60-500h600v-160H180v160Zm220 220h160v-160H400v160Zm0 220h160v-160H400v160ZM180-400h160v-160H180v160Zm440 0h160v-160H620v160ZM180-180h160v-160H180v160Zm440 0h160v-160H620v160Z\"/>\n",
       "  </svg>\n",
       "    </button>\n",
       "\n",
       "  <style>\n",
       "    .colab-df-container {\n",
       "      display:flex;\n",
       "      gap: 12px;\n",
       "    }\n",
       "\n",
       "    .colab-df-convert {\n",
       "      background-color: #E8F0FE;\n",
       "      border: none;\n",
       "      border-radius: 50%;\n",
       "      cursor: pointer;\n",
       "      display: none;\n",
       "      fill: #1967D2;\n",
       "      height: 32px;\n",
       "      padding: 0 0 0 0;\n",
       "      width: 32px;\n",
       "    }\n",
       "\n",
       "    .colab-df-convert:hover {\n",
       "      background-color: #E2EBFA;\n",
       "      box-shadow: 0px 1px 2px rgba(60, 64, 67, 0.3), 0px 1px 3px 1px rgba(60, 64, 67, 0.15);\n",
       "      fill: #174EA6;\n",
       "    }\n",
       "\n",
       "    .colab-df-buttons div {\n",
       "      margin-bottom: 4px;\n",
       "    }\n",
       "\n",
       "    [theme=dark] .colab-df-convert {\n",
       "      background-color: #3B4455;\n",
       "      fill: #D2E3FC;\n",
       "    }\n",
       "\n",
       "    [theme=dark] .colab-df-convert:hover {\n",
       "      background-color: #434B5C;\n",
       "      box-shadow: 0px 1px 3px 1px rgba(0, 0, 0, 0.15);\n",
       "      filter: drop-shadow(0px 1px 2px rgba(0, 0, 0, 0.3));\n",
       "      fill: #FFFFFF;\n",
       "    }\n",
       "  </style>\n",
       "\n",
       "    <script>\n",
       "      const buttonEl =\n",
       "        document.querySelector('#df-49d0f958-7d17-4089-b3bb-3baebd3724d4 button.colab-df-convert');\n",
       "      buttonEl.style.display =\n",
       "        google.colab.kernel.accessAllowed ? 'block' : 'none';\n",
       "\n",
       "      async function convertToInteractive(key) {\n",
       "        const element = document.querySelector('#df-49d0f958-7d17-4089-b3bb-3baebd3724d4');\n",
       "        const dataTable =\n",
       "          await google.colab.kernel.invokeFunction('convertToInteractive',\n",
       "                                                    [key], {});\n",
       "        if (!dataTable) return;\n",
       "\n",
       "        const docLinkHtml = 'Like what you see? Visit the ' +\n",
       "          '<a target=\"_blank\" href=https://colab.research.google.com/notebooks/data_table.ipynb>data table notebook</a>'\n",
       "          + ' to learn more about interactive tables.';\n",
       "        element.innerHTML = '';\n",
       "        dataTable['output_type'] = 'display_data';\n",
       "        await google.colab.output.renderOutput(dataTable, element);\n",
       "        const docLink = document.createElement('div');\n",
       "        docLink.innerHTML = docLinkHtml;\n",
       "        element.appendChild(docLink);\n",
       "      }\n",
       "    </script>\n",
       "  </div>\n",
       "\n",
       "\n",
       "<div id=\"df-775bc6ac-e761-4c9b-8082-c21dc13aad86\">\n",
       "  <button class=\"colab-df-quickchart\" onclick=\"quickchart('df-775bc6ac-e761-4c9b-8082-c21dc13aad86')\"\n",
       "            title=\"Suggest charts\"\n",
       "            style=\"display:none;\">\n",
       "\n",
       "<svg xmlns=\"http://www.w3.org/2000/svg\" height=\"24px\"viewBox=\"0 0 24 24\"\n",
       "     width=\"24px\">\n",
       "    <g>\n",
       "        <path d=\"M19 3H5c-1.1 0-2 .9-2 2v14c0 1.1.9 2 2 2h14c1.1 0 2-.9 2-2V5c0-1.1-.9-2-2-2zM9 17H7v-7h2v7zm4 0h-2V7h2v10zm4 0h-2v-4h2v4z\"/>\n",
       "    </g>\n",
       "</svg>\n",
       "  </button>\n",
       "\n",
       "<style>\n",
       "  .colab-df-quickchart {\n",
       "      --bg-color: #E8F0FE;\n",
       "      --fill-color: #1967D2;\n",
       "      --hover-bg-color: #E2EBFA;\n",
       "      --hover-fill-color: #174EA6;\n",
       "      --disabled-fill-color: #AAA;\n",
       "      --disabled-bg-color: #DDD;\n",
       "  }\n",
       "\n",
       "  [theme=dark] .colab-df-quickchart {\n",
       "      --bg-color: #3B4455;\n",
       "      --fill-color: #D2E3FC;\n",
       "      --hover-bg-color: #434B5C;\n",
       "      --hover-fill-color: #FFFFFF;\n",
       "      --disabled-bg-color: #3B4455;\n",
       "      --disabled-fill-color: #666;\n",
       "  }\n",
       "\n",
       "  .colab-df-quickchart {\n",
       "    background-color: var(--bg-color);\n",
       "    border: none;\n",
       "    border-radius: 50%;\n",
       "    cursor: pointer;\n",
       "    display: none;\n",
       "    fill: var(--fill-color);\n",
       "    height: 32px;\n",
       "    padding: 0;\n",
       "    width: 32px;\n",
       "  }\n",
       "\n",
       "  .colab-df-quickchart:hover {\n",
       "    background-color: var(--hover-bg-color);\n",
       "    box-shadow: 0 1px 2px rgba(60, 64, 67, 0.3), 0 1px 3px 1px rgba(60, 64, 67, 0.15);\n",
       "    fill: var(--button-hover-fill-color);\n",
       "  }\n",
       "\n",
       "  .colab-df-quickchart-complete:disabled,\n",
       "  .colab-df-quickchart-complete:disabled:hover {\n",
       "    background-color: var(--disabled-bg-color);\n",
       "    fill: var(--disabled-fill-color);\n",
       "    box-shadow: none;\n",
       "  }\n",
       "\n",
       "  .colab-df-spinner {\n",
       "    border: 2px solid var(--fill-color);\n",
       "    border-color: transparent;\n",
       "    border-bottom-color: var(--fill-color);\n",
       "    animation:\n",
       "      spin 1s steps(1) infinite;\n",
       "  }\n",
       "\n",
       "  @keyframes spin {\n",
       "    0% {\n",
       "      border-color: transparent;\n",
       "      border-bottom-color: var(--fill-color);\n",
       "      border-left-color: var(--fill-color);\n",
       "    }\n",
       "    20% {\n",
       "      border-color: transparent;\n",
       "      border-left-color: var(--fill-color);\n",
       "      border-top-color: var(--fill-color);\n",
       "    }\n",
       "    30% {\n",
       "      border-color: transparent;\n",
       "      border-left-color: var(--fill-color);\n",
       "      border-top-color: var(--fill-color);\n",
       "      border-right-color: var(--fill-color);\n",
       "    }\n",
       "    40% {\n",
       "      border-color: transparent;\n",
       "      border-right-color: var(--fill-color);\n",
       "      border-top-color: var(--fill-color);\n",
       "    }\n",
       "    60% {\n",
       "      border-color: transparent;\n",
       "      border-right-color: var(--fill-color);\n",
       "    }\n",
       "    80% {\n",
       "      border-color: transparent;\n",
       "      border-right-color: var(--fill-color);\n",
       "      border-bottom-color: var(--fill-color);\n",
       "    }\n",
       "    90% {\n",
       "      border-color: transparent;\n",
       "      border-bottom-color: var(--fill-color);\n",
       "    }\n",
       "  }\n",
       "</style>\n",
       "\n",
       "  <script>\n",
       "    async function quickchart(key) {\n",
       "      const quickchartButtonEl =\n",
       "        document.querySelector('#' + key + ' button');\n",
       "      quickchartButtonEl.disabled = true;  // To prevent multiple clicks.\n",
       "      quickchartButtonEl.classList.add('colab-df-spinner');\n",
       "      try {\n",
       "        const charts = await google.colab.kernel.invokeFunction(\n",
       "            'suggestCharts', [key], {});\n",
       "      } catch (error) {\n",
       "        console.error('Error during call to suggestCharts:', error);\n",
       "      }\n",
       "      quickchartButtonEl.classList.remove('colab-df-spinner');\n",
       "      quickchartButtonEl.classList.add('colab-df-quickchart-complete');\n",
       "    }\n",
       "    (() => {\n",
       "      let quickchartButtonEl =\n",
       "        document.querySelector('#df-775bc6ac-e761-4c9b-8082-c21dc13aad86 button');\n",
       "      quickchartButtonEl.style.display =\n",
       "        google.colab.kernel.accessAllowed ? 'block' : 'none';\n",
       "    })();\n",
       "  </script>\n",
       "</div>\n",
       "\n",
       "    </div>\n",
       "  </div>\n"
      ],
      "application/vnd.google.colaboratory.intrinsic+json": {
       "type": "dataframe",
       "variable_name": "df",
       "summary": "{\n  \"name\": \"df\",\n  \"rows\": 153,\n  \"fields\": [\n    {\n      \"column\": \"edist\",\n      \"properties\": {\n        \"dtype\": \"number\",\n        \"std\": 39.188939487434894,\n        \"min\": -0.06326336520100995,\n        \"max\": 264.8508484992351,\n        \"num_unique_values\": 153,\n        \"samples\": [\n          35.4895776855996,\n          20.55357913573583,\n          29.361116291214458\n        ],\n        \"semantic_type\": \"\",\n        \"description\": \"\"\n      }\n    },\n    {\n      \"column\": \"pvalue\",\n      \"properties\": {\n        \"dtype\": \"number\",\n        \"std\": 0.08991843371757663,\n        \"min\": 0.0001,\n        \"max\": 1.0,\n        \"num_unique_values\": 7,\n        \"samples\": [\n          0.0001,\n          0.0282,\n          0.0014\n        ],\n        \"semantic_type\": \"\",\n        \"description\": \"\"\n      }\n    },\n    {\n      \"column\": \"significant\",\n      \"properties\": {\n        \"dtype\": \"boolean\",\n        \"num_unique_values\": 2,\n        \"samples\": [\n          false,\n          true\n        ],\n        \"semantic_type\": \"\",\n        \"description\": \"\"\n      }\n    },\n    {\n      \"column\": \"pvalue_adj\",\n      \"properties\": {\n        \"dtype\": \"number\",\n        \"std\": 0.09881447234228133,\n        \"min\": 0.015184303087739362,\n        \"max\": 1.0,\n        \"num_unique_values\": 4,\n        \"samples\": [\n          0.08223670576799999,\n          1.0\n        ],\n        \"semantic_type\": \"\",\n        \"description\": \"\"\n      }\n    },\n    {\n      \"column\": \"significant_adj\",\n      \"properties\": {\n        \"dtype\": \"boolean\",\n        \"num_unique_values\": 2,\n        \"samples\": [\n          false,\n          true\n        ],\n        \"semantic_type\": \"\",\n        \"description\": \"\"\n      }\n    }\n  ]\n}"
      }
     },
     "metadata": {},
     "execution_count": 4
    }
   ]
  },
  {
   "metadata": {
    "ExecuteTime": {
     "end_time": "2024-09-23T22:52:55.515005Z",
     "start_time": "2024-09-23T22:52:55.492973Z"
    }
   },
   "cell_type": "code",
   "source": [
    "# open etest results\n",
    "df = pd.read_csv('etest_results_single_perts.csv')\n",
    "df"
   ],
   "outputs": [
    {
     "data": {
      "text/plain": [
       "   Unnamed: 0      edist  pvalue  significant  pvalue_adj  significant_adj\n",
       "0         AHR  21.757839  0.0001         True    0.008464             True\n",
       "1      ARRDC3   6.931206  0.0001         True    0.008464             True\n",
       "2        ATL1  60.535701  0.0001         True    0.008464             True\n",
       "3        BAK1   0.994366  0.0104         True    0.030877             True\n",
       "4     BCL2L11   0.082736  0.2923        False    0.499161            False\n",
       "..        ...        ...     ...          ...         ...              ...\n",
       "80      ZBTB1  27.508356  0.0001         True    0.008464             True\n",
       "81     ZBTB25  13.570649  0.0001         True    0.008464             True\n",
       "82    ZC3HAV1   3.710965  0.0001         True    0.008464             True\n",
       "83     ZNF318   2.619759  0.0001         True    0.008464             True\n",
       "84    control   0.000000  1.0000        False    1.000000            False\n",
       "\n",
       "[85 rows x 6 columns]"
      ],
      "text/html": [
       "<div>\n",
       "<style scoped>\n",
       "    .dataframe tbody tr th:only-of-type {\n",
       "        vertical-align: middle;\n",
       "    }\n",
       "\n",
       "    .dataframe tbody tr th {\n",
       "        vertical-align: top;\n",
       "    }\n",
       "\n",
       "    .dataframe thead th {\n",
       "        text-align: right;\n",
       "    }\n",
       "</style>\n",
       "<table border=\"1\" class=\"dataframe\">\n",
       "  <thead>\n",
       "    <tr style=\"text-align: right;\">\n",
       "      <th></th>\n",
       "      <th>Unnamed: 0</th>\n",
       "      <th>edist</th>\n",
       "      <th>pvalue</th>\n",
       "      <th>significant</th>\n",
       "      <th>pvalue_adj</th>\n",
       "      <th>significant_adj</th>\n",
       "    </tr>\n",
       "  </thead>\n",
       "  <tbody>\n",
       "    <tr>\n",
       "      <th>0</th>\n",
       "      <td>AHR</td>\n",
       "      <td>21.757839</td>\n",
       "      <td>0.0001</td>\n",
       "      <td>True</td>\n",
       "      <td>0.008464</td>\n",
       "      <td>True</td>\n",
       "    </tr>\n",
       "    <tr>\n",
       "      <th>1</th>\n",
       "      <td>ARRDC3</td>\n",
       "      <td>6.931206</td>\n",
       "      <td>0.0001</td>\n",
       "      <td>True</td>\n",
       "      <td>0.008464</td>\n",
       "      <td>True</td>\n",
       "    </tr>\n",
       "    <tr>\n",
       "      <th>2</th>\n",
       "      <td>ATL1</td>\n",
       "      <td>60.535701</td>\n",
       "      <td>0.0001</td>\n",
       "      <td>True</td>\n",
       "      <td>0.008464</td>\n",
       "      <td>True</td>\n",
       "    </tr>\n",
       "    <tr>\n",
       "      <th>3</th>\n",
       "      <td>BAK1</td>\n",
       "      <td>0.994366</td>\n",
       "      <td>0.0104</td>\n",
       "      <td>True</td>\n",
       "      <td>0.030877</td>\n",
       "      <td>True</td>\n",
       "    </tr>\n",
       "    <tr>\n",
       "      <th>4</th>\n",
       "      <td>BCL2L11</td>\n",
       "      <td>0.082736</td>\n",
       "      <td>0.2923</td>\n",
       "      <td>False</td>\n",
       "      <td>0.499161</td>\n",
       "      <td>False</td>\n",
       "    </tr>\n",
       "    <tr>\n",
       "      <th>...</th>\n",
       "      <td>...</td>\n",
       "      <td>...</td>\n",
       "      <td>...</td>\n",
       "      <td>...</td>\n",
       "      <td>...</td>\n",
       "      <td>...</td>\n",
       "    </tr>\n",
       "    <tr>\n",
       "      <th>80</th>\n",
       "      <td>ZBTB1</td>\n",
       "      <td>27.508356</td>\n",
       "      <td>0.0001</td>\n",
       "      <td>True</td>\n",
       "      <td>0.008464</td>\n",
       "      <td>True</td>\n",
       "    </tr>\n",
       "    <tr>\n",
       "      <th>81</th>\n",
       "      <td>ZBTB25</td>\n",
       "      <td>13.570649</td>\n",
       "      <td>0.0001</td>\n",
       "      <td>True</td>\n",
       "      <td>0.008464</td>\n",
       "      <td>True</td>\n",
       "    </tr>\n",
       "    <tr>\n",
       "      <th>82</th>\n",
       "      <td>ZC3HAV1</td>\n",
       "      <td>3.710965</td>\n",
       "      <td>0.0001</td>\n",
       "      <td>True</td>\n",
       "      <td>0.008464</td>\n",
       "      <td>True</td>\n",
       "    </tr>\n",
       "    <tr>\n",
       "      <th>83</th>\n",
       "      <td>ZNF318</td>\n",
       "      <td>2.619759</td>\n",
       "      <td>0.0001</td>\n",
       "      <td>True</td>\n",
       "      <td>0.008464</td>\n",
       "      <td>True</td>\n",
       "    </tr>\n",
       "    <tr>\n",
       "      <th>84</th>\n",
       "      <td>control</td>\n",
       "      <td>0.000000</td>\n",
       "      <td>1.0000</td>\n",
       "      <td>False</td>\n",
       "      <td>1.000000</td>\n",
       "      <td>False</td>\n",
       "    </tr>\n",
       "  </tbody>\n",
       "</table>\n",
       "<p>85 rows × 6 columns</p>\n",
       "</div>"
      ]
     },
     "execution_count": 12,
     "metadata": {},
     "output_type": "execute_result"
    }
   ],
   "execution_count": 12
  },
  {
   "metadata": {
    "ExecuteTime": {
     "end_time": "2024-09-23T16:14:55.340826Z",
     "start_time": "2024-09-23T16:14:55.105446Z"
    }
   },
   "cell_type": "code",
   "source": [
    "# plot histogram of edist values\n",
    "df['edist'].hist()"
   ],
   "outputs": [
    {
     "data": {
      "text/plain": [
       "<Axes: >"
      ]
     },
     "execution_count": 7,
     "metadata": {},
     "output_type": "execute_result"
    },
    {
     "data": {
      "text/plain": [
       "<Figure size 640x480 with 1 Axes>"
      ],
      "image/png": "[encoded data removed]"
     },
     "metadata": {},
     "output_type": "display_data"
    }
   ],
   "execution_count": 7
  },
  {
   "metadata": {
    "ExecuteTime": {
     "end_time": "2024-09-23T16:23:20.837405Z",
     "start_time": "2024-09-23T16:23:20.824939Z"
    }
   },
   "cell_type": "code",
   "source": [
    "df = df.rename(columns={'Unnamed: 0': 'perturbation'})\n",
    "# remove perturbation 'control' from the df\n",
    "df = df[df['perturbation'] != 'control']\n",
    "\n",
    "# calculate the mean e-distance across the entire dataset (column 'edist') and the associated p-value (column 'pvalue_adj').\n",
    "df['edist'].mean()"
   ],
   "outputs": [
    {
     "data": {
      "text/plain": [
       "26.777577459631395"
      ]
     },
     "execution_count": 8,
     "metadata": {},
     "output_type": "execute_result"
    }
   ],
   "execution_count": 8
  },
  {
   "metadata": {
    "ExecuteTime": {
     "end_time": "2024-09-23T16:23:26.362464Z",
     "start_time": "2024-09-23T16:23:26.357064Z"
    }
   },
   "cell_type": "code",
   "source": [
    "from scipy.stats import combine_pvalues\n",
    "\n",
    "# Assuming df is your DataFrame and 'pvalue_adj' is the column with p-values\n",
    "p_values = df['pvalue_adj'].values\n",
    "\n",
    "# Use Fisher's method to combine p-values\n",
    "_, combined_p_value = combine_pvalues(p_values, method='fisher')\n",
    "\n",
    "print(f\"Combined p-value: {combined_p_value}\")"
   ],
   "outputs": [
    {
     "name": "stdout",
     "output_type": "stream",
     "text": [
      "Combined p-value: 1.2252751342846089e-80\n"
     ]
    }
   ],
   "execution_count": 9
  },
  {
   "metadata": {},
   "cell_type": "markdown",
   "source": "## Calculate sigma values for perturbation "
  },
  {
   "metadata": {
    "ExecuteTime": {
     "end_time": "2024-09-25T20:17:17.847121Z",
     "start_time": "2024-09-25T20:17:17.834899Z"
    }
   },
   "cell_type": "code",
   "source": [
    "boolean_idx = adata.obs['guide_ids'] == 'CEBPA'\n",
    "adata.shape"
   ],
   "outputs": [
    {
     "data": {
      "text/plain": [
       "(111445, 17414)"
      ]
     },
     "execution_count": 46,
     "metadata": {},
     "output_type": "execute_result"
    }
   ],
   "execution_count": 46
  },
  {
   "metadata": {
    "ExecuteTime": {
     "end_time": "2024-09-23T23:05:51.245997Z",
     "start_time": "2024-09-23T23:05:51.212804Z"
    }
   },
   "cell_type": "code",
   "source": [
    "# extract the expression for 'CEBPA' from adata \n",
    "cebpa_expr = adata[boolean_idx,:].X.toarray()"
   ],
   "outputs": [],
   "execution_count": 31
  },
  {
   "metadata": {
    "ExecuteTime": {
     "end_time": "2024-09-25T20:18:53.972168Z",
     "start_time": "2024-09-25T20:18:52.630488Z"
    }
   },
   "cell_type": "code",
   "source": [
    "# calculate the sum of the euclidean distances between all the cells\n",
    "all_edist = []\n",
    "for i in range(cebpa_expr.shape[0]):\n",
    "    for j in range(cebpa_expr.shape[0]):\n",
    "        if i != j:\n",
    "            all_edist.append(np.linalg.norm(cebpa_expr[i] - cebpa_expr[j]))\n",
    "\n",
    "sigma_y_cebpa = sum(all_edist) / (cebpa_expr.shape[0] ** 2)\n",
    "sigma_y_cebpa"
   ],
   "outputs": [
    {
     "data": {
      "text/plain": [
       "62.9345994717863"
      ]
     },
     "execution_count": 54,
     "metadata": {},
     "output_type": "execute_result"
    }
   ],
   "execution_count": 54
  },
  {
   "metadata": {
    "ExecuteTime": {
     "end_time": "2024-09-25T20:17:28.796238Z",
     "start_time": "2024-09-25T20:17:28.428254Z"
    }
   },
   "cell_type": "code",
   "source": [
    "boolean_idx_ikzf3 = adata.obs['guide_ids'] == 'IKZF3'\n",
    "# extract the expression for 'IKZF3' from adata\n",
    "ikzf3_expr = adata[boolean_idx_ikzf3,:].X.toarray()"
   ],
   "outputs": [],
   "execution_count": 48
  },
  {
   "metadata": {
    "ExecuteTime": {
     "end_time": "2024-09-25T20:17:38.798084Z",
     "start_time": "2024-09-25T20:17:38.776481Z"
    }
   },
   "cell_type": "code",
   "source": "ikzf3_expr.shape",
   "outputs": [
    {
     "data": {
      "text/plain": [
       "(681, 17414)"
      ]
     },
     "execution_count": 50,
     "metadata": {},
     "output_type": "execute_result"
    }
   ],
   "execution_count": 50
  },
  {
   "metadata": {
    "ExecuteTime": {
     "end_time": "2024-09-25T20:18:50.718527Z",
     "start_time": "2024-09-25T20:18:47.867616Z"
    }
   },
   "cell_type": "code",
   "source": [
    "# calculate the sum of the euclidean distances between all the cells\n",
    "all_edist_ikzf3 = []\n",
    "for i in range(ikzf3_expr.shape[0]):\n",
    "    for j in range(ikzf3_expr.shape[0]):\n",
    "        if i != j:\n",
    "            all_edist_ikzf3.append(np.linalg.norm(ikzf3_expr[i] - ikzf3_expr[j]))\n",
    "\n",
    "sigma_y_ikzf3 = sum(all_edist_ikzf3) / (ikzf3_expr.shape[0]) ** 2\n",
    "sigma_y_ikzf3"
   ],
   "outputs": [
    {
     "data": {
      "text/plain": [
       "54.687621580808994"
      ]
     },
     "execution_count": 53,
     "metadata": {},
     "output_type": "execute_result"
    }
   ],
   "execution_count": 53
  },
  {
   "metadata": {
    "ExecuteTime": {
     "end_time": "2024-09-23T23:15:42.816927Z",
     "start_time": "2024-09-23T23:15:42.764372Z"
    }
   },
   "cell_type": "code",
   "source": [
    "# calculate the mean of cebpa and ikzf3 across all cells \n",
    "cebpa_mean = cebpa_expr.mean(axis=0)\n",
    "ikzf3_mean = ikzf3_expr.mean(axis=0)\n",
    "# sort the mean values descending\n",
    "cebpa_mean = np.sort(cebpa_mean)[::-1]\n",
    "ikzf3_mean = np.sort(ikzf3_mean)[::-1]"
   ],
   "outputs": [],
   "execution_count": 35
  },
  {
   "metadata": {
    "ExecuteTime": {
     "end_time": "2024-09-23T23:34:04.839382Z",
     "start_time": "2024-09-23T23:34:04.477241Z"
    }
   },
   "cell_type": "code",
   "source": [
    "# plot a line plot of the mean expression of cebpa and ikzf3\n",
    "import matplotlib.pyplot as plt\n",
    "\n",
    "x = np.arange(cebpa_mean.shape[0])\n",
    "plt.plot(x, cebpa_mean, label='CEBPA')\n",
    "plt.plot(x, ikzf3_mean, label='IKZF3')\n",
    "plt.yscale('log')\n",
    "plt.xlabel('Gene')\n",
    "plt.ylabel('Mean post-perturbation expression')\n",
    "plt.gca().set_facecolor('white')\n",
    "plt.grid(color='grey', linestyle='-', linewidth=0.1)\n",
    "# set all spines to black \n",
    "plt.gca().spines['bottom'].set_color('black')\n",
    "plt.gca().spines['top'].set_color('black')\n",
    "plt.gca().spines['right'].set_color('black')\n",
    "plt.gca().spines['left'].set_color('black')\n",
    "plt.legend(facecolor='white')\n",
    "plt.savefig('../plots/paper_figs/CEBPA_IKZF3.pdf', dpi=300)"
   ],
   "outputs": [
    {
     "data": {
      "text/plain": [
       "<Figure size 640x480 with 1 Axes>"
      ],
      "image/png": "[encoded data removed]"
     },
     "metadata": {},
     "output_type": "display_data"
    }
   ],
   "execution_count": 45
  },
  {
   "metadata": {},
   "cell_type": "code",
   "outputs": [],
   "execution_count": null,
   "source": ""
  }
 ]
}
